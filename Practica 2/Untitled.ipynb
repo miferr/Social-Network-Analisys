{
 "cells": [
  {
   "cell_type": "code",
   "execution_count": 25,
   "metadata": {},
   "outputs": [],
   "source": [
    "import networkx as nx\n",
    "import matplotlib.pyplot as plt\n",
    "import collections\n",
    "import numpy as np"
   ]
  },
  {
   "cell_type": "code",
   "execution_count": 3,
   "metadata": {},
   "outputs": [],
   "source": [
    "def degree_distribution(G):\n",
    "    degrees = [G.degree(n) for n in G.nodes()]\n",
    "    plt.hist(degrees, width=0.7)\n",
    "    plt.show()"
   ]
  },
  {
   "cell_type": "markdown",
   "metadata": {},
   "source": [
    "## Red aleatoria\n",
    "- Nodos (N)\n",
    "- Probabilidad (p)\n",
    "- Enlaces (\\<L> = p · Lmax)\n",
    "- Grado medio (\\<k> = p · (N-1))\n",
    "- Distancia media (\\<d> = logN / log \\<k>) SOLO GRAFO DIRIGIDO\n",
    "- Clustering (C = \\<k> / N)"
   ]
  },
  {
   "cell_type": "code",
   "execution_count": 13,
   "metadata": {},
   "outputs": [],
   "source": [
    "### Subcritica (p < 1/N)\n",
    "N = 500\n",
    "p = 0.0015"
   ]
  },
  {
   "cell_type": "code",
   "execution_count": 85,
   "metadata": {},
   "outputs": [
    {
     "name": "stdout",
     "output_type": "stream",
     "text": [
      "Medidas TEORICAS\n",
      "<k>:  0.7485\n",
      "<L>:  187.125\n",
      "C:  0.001497\n",
      "-------------------------\n",
      "Medidas REALES\n",
      "<k>:  0.7698666666666667\n",
      "<L>:  192.46666666666667\n",
      "C:  0.0\n"
     ]
    }
   ],
   "source": [
    "N = 500\n",
    "p = 0.0015\n",
    "\n",
    "# Medidas\n",
    "k = []\n",
    "l = []\n",
    "d = []\n",
    "c = []\n",
    "\n",
    "for i in range(0,15):\n",
    "    G = nx.gnp_random_graph(N, p)\n",
    "    \n",
    "    k.append(np.sum([d for n, d in nx.degree(G)]) / N)\n",
    "    l.append(nx.number_of_edges(G))\n",
    "#     d.append(nx.average_shortest_path_length(G))  \n",
    "    c.append(nx.average_clustering(G))\n",
    "\n",
    "print(\"Medidas TEORICAS\")\n",
    "print('<k>: ', p*(N-1))\n",
    "print('<L>: ', p*((N*(N-1)/2)))\n",
    "print('C: ', (p*(N-1)) / N)\n",
    "print(\"-------------------------\")\n",
    "print(\"Medidas REALES\")\n",
    "print('<k>: ', np.mean(k))\n",
    "print('<L>: ', np.mean(l))\n",
    "print('C: ', np.mean(c))"
   ]
  }
 ],
 "metadata": {
  "kernelspec": {
   "display_name": "Python 3",
   "language": "python",
   "name": "python3"
  },
  "language_info": {
   "codemirror_mode": {
    "name": "ipython",
    "version": 3
   },
   "file_extension": ".py",
   "mimetype": "text/x-python",
   "name": "python",
   "nbconvert_exporter": "python",
   "pygments_lexer": "ipython3",
   "version": "3.7.4"
  }
 },
 "nbformat": 4,
 "nbformat_minor": 4
}
