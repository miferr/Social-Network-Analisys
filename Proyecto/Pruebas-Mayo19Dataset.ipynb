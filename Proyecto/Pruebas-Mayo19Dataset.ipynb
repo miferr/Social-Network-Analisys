{
 "cells": [
  {
   "cell_type": "code",
   "execution_count": 51,
   "metadata": {},
   "outputs": [],
   "source": [
    "import pandas as pd\n",
    "import numpy as np\n",
    "import matplotlib.pyplot as plt\n",
    "import networkx as nx"
   ]
  },
  {
   "cell_type": "code",
   "execution_count": 52,
   "metadata": {},
   "outputs": [
    {
     "data": {
      "text/plain": [
       "(27075, 18)"
      ]
     },
     "execution_count": 52,
     "metadata": {},
     "output_type": "execute_result"
    }
   ],
   "source": [
    "df = pd.read_csv(\"STEAM-Mayo2019/steam.csv\")\n",
    "\n",
    "df.shape"
   ]
  },
  {
   "cell_type": "code",
   "execution_count": 53,
   "metadata": {},
   "outputs": [
    {
     "data": {
      "text/plain": [
       "(27075, 3)"
      ]
     },
     "execution_count": 53,
     "metadata": {},
     "output_type": "execute_result"
    }
   ],
   "source": [
    "data = df[['name', 'steamspy_tags', 'owners']]\n",
    "data.shape"
   ]
  },
  {
   "cell_type": "code",
   "execution_count": 54,
   "metadata": {},
   "outputs": [
    {
     "data": {
      "text/plain": [
       "False"
      ]
     },
     "execution_count": 54,
     "metadata": {},
     "output_type": "execute_result"
    }
   ],
   "source": [
    "data.isnull().values.any()"
   ]
  },
  {
   "cell_type": "code",
   "execution_count": 55,
   "metadata": {},
   "outputs": [
    {
     "data": {
      "text/html": [
       "<div>\n",
       "<style scoped>\n",
       "    .dataframe tbody tr th:only-of-type {\n",
       "        vertical-align: middle;\n",
       "    }\n",
       "\n",
       "    .dataframe tbody tr th {\n",
       "        vertical-align: top;\n",
       "    }\n",
       "\n",
       "    .dataframe thead th {\n",
       "        text-align: right;\n",
       "    }\n",
       "</style>\n",
       "<table border=\"1\" class=\"dataframe\">\n",
       "  <thead>\n",
       "    <tr style=\"text-align: right;\">\n",
       "      <th></th>\n",
       "      <th>name</th>\n",
       "      <th>steamspy_tags</th>\n",
       "      <th>owners</th>\n",
       "    </tr>\n",
       "  </thead>\n",
       "  <tbody>\n",
       "    <tr>\n",
       "      <td>0</td>\n",
       "      <td>Counter-Strike</td>\n",
       "      <td>Action;FPS;Multiplayer</td>\n",
       "      <td>10000000-20000000</td>\n",
       "    </tr>\n",
       "    <tr>\n",
       "      <td>1</td>\n",
       "      <td>Team Fortress Classic</td>\n",
       "      <td>Action;FPS;Multiplayer</td>\n",
       "      <td>5000000-10000000</td>\n",
       "    </tr>\n",
       "    <tr>\n",
       "      <td>2</td>\n",
       "      <td>Day of Defeat</td>\n",
       "      <td>FPS;World War II;Multiplayer</td>\n",
       "      <td>5000000-10000000</td>\n",
       "    </tr>\n",
       "    <tr>\n",
       "      <td>3</td>\n",
       "      <td>Deathmatch Classic</td>\n",
       "      <td>Action;FPS;Multiplayer</td>\n",
       "      <td>5000000-10000000</td>\n",
       "    </tr>\n",
       "    <tr>\n",
       "      <td>4</td>\n",
       "      <td>Half-Life: Opposing Force</td>\n",
       "      <td>FPS;Action;Sci-fi</td>\n",
       "      <td>5000000-10000000</td>\n",
       "    </tr>\n",
       "    <tr>\n",
       "      <td>...</td>\n",
       "      <td>...</td>\n",
       "      <td>...</td>\n",
       "      <td>...</td>\n",
       "    </tr>\n",
       "    <tr>\n",
       "      <td>27070</td>\n",
       "      <td>Room of Pandora</td>\n",
       "      <td>Adventure;Indie;Casual</td>\n",
       "      <td>0-20000</td>\n",
       "    </tr>\n",
       "    <tr>\n",
       "      <td>27071</td>\n",
       "      <td>Cyber Gun</td>\n",
       "      <td>Action;Indie;Adventure</td>\n",
       "      <td>0-20000</td>\n",
       "    </tr>\n",
       "    <tr>\n",
       "      <td>27072</td>\n",
       "      <td>Super Star Blast</td>\n",
       "      <td>Action;Indie;Casual</td>\n",
       "      <td>0-20000</td>\n",
       "    </tr>\n",
       "    <tr>\n",
       "      <td>27073</td>\n",
       "      <td>New Yankee 7: Deer Hunters</td>\n",
       "      <td>Indie;Casual;Adventure</td>\n",
       "      <td>0-20000</td>\n",
       "    </tr>\n",
       "    <tr>\n",
       "      <td>27074</td>\n",
       "      <td>Rune Lord</td>\n",
       "      <td>Indie;Casual;Adventure</td>\n",
       "      <td>0-20000</td>\n",
       "    </tr>\n",
       "  </tbody>\n",
       "</table>\n",
       "<p>27075 rows × 3 columns</p>\n",
       "</div>"
      ],
      "text/plain": [
       "                             name                 steamspy_tags  \\\n",
       "0                  Counter-Strike        Action;FPS;Multiplayer   \n",
       "1           Team Fortress Classic        Action;FPS;Multiplayer   \n",
       "2                   Day of Defeat  FPS;World War II;Multiplayer   \n",
       "3              Deathmatch Classic        Action;FPS;Multiplayer   \n",
       "4       Half-Life: Opposing Force             FPS;Action;Sci-fi   \n",
       "...                           ...                           ...   \n",
       "27070             Room of Pandora        Adventure;Indie;Casual   \n",
       "27071                   Cyber Gun        Action;Indie;Adventure   \n",
       "27072            Super Star Blast           Action;Indie;Casual   \n",
       "27073  New Yankee 7: Deer Hunters        Indie;Casual;Adventure   \n",
       "27074                   Rune Lord        Indie;Casual;Adventure   \n",
       "\n",
       "                  owners  \n",
       "0      10000000-20000000  \n",
       "1       5000000-10000000  \n",
       "2       5000000-10000000  \n",
       "3       5000000-10000000  \n",
       "4       5000000-10000000  \n",
       "...                  ...  \n",
       "27070            0-20000  \n",
       "27071            0-20000  \n",
       "27072            0-20000  \n",
       "27073            0-20000  \n",
       "27074            0-20000  \n",
       "\n",
       "[27075 rows x 3 columns]"
      ]
     },
     "execution_count": 55,
     "metadata": {},
     "output_type": "execute_result"
    }
   ],
   "source": [
    "data"
   ]
  },
  {
   "cell_type": "code",
   "execution_count": 56,
   "metadata": {},
   "outputs": [
    {
     "data": {
      "text/html": [
       "<div>\n",
       "<style scoped>\n",
       "    .dataframe tbody tr th:only-of-type {\n",
       "        vertical-align: middle;\n",
       "    }\n",
       "\n",
       "    .dataframe tbody tr th {\n",
       "        vertical-align: top;\n",
       "    }\n",
       "\n",
       "    .dataframe thead th {\n",
       "        text-align: right;\n",
       "    }\n",
       "</style>\n",
       "<table border=\"1\" class=\"dataframe\">\n",
       "  <thead>\n",
       "    <tr style=\"text-align: right;\">\n",
       "      <th></th>\n",
       "      <th>name</th>\n",
       "      <th>tags</th>\n",
       "      <th>owners</th>\n",
       "    </tr>\n",
       "  </thead>\n",
       "  <tbody>\n",
       "    <tr>\n",
       "      <td>0</td>\n",
       "      <td>Counter-Strike</td>\n",
       "      <td>Action;FPS;Multiplayer</td>\n",
       "      <td>10000000-20000000</td>\n",
       "    </tr>\n",
       "    <tr>\n",
       "      <td>1</td>\n",
       "      <td>Team Fortress Classic</td>\n",
       "      <td>Action;FPS;Multiplayer</td>\n",
       "      <td>5000000-10000000</td>\n",
       "    </tr>\n",
       "    <tr>\n",
       "      <td>2</td>\n",
       "      <td>Day of Defeat</td>\n",
       "      <td>FPS;World War II;Multiplayer</td>\n",
       "      <td>5000000-10000000</td>\n",
       "    </tr>\n",
       "    <tr>\n",
       "      <td>3</td>\n",
       "      <td>Deathmatch Classic</td>\n",
       "      <td>Action;FPS;Multiplayer</td>\n",
       "      <td>5000000-10000000</td>\n",
       "    </tr>\n",
       "    <tr>\n",
       "      <td>4</td>\n",
       "      <td>Half-Life: Opposing Force</td>\n",
       "      <td>FPS;Action;Sci-fi</td>\n",
       "      <td>5000000-10000000</td>\n",
       "    </tr>\n",
       "    <tr>\n",
       "      <td>...</td>\n",
       "      <td>...</td>\n",
       "      <td>...</td>\n",
       "      <td>...</td>\n",
       "    </tr>\n",
       "    <tr>\n",
       "      <td>27070</td>\n",
       "      <td>Room of Pandora</td>\n",
       "      <td>Adventure;Indie;Casual</td>\n",
       "      <td>0-20000</td>\n",
       "    </tr>\n",
       "    <tr>\n",
       "      <td>27071</td>\n",
       "      <td>Cyber Gun</td>\n",
       "      <td>Action;Indie;Adventure</td>\n",
       "      <td>0-20000</td>\n",
       "    </tr>\n",
       "    <tr>\n",
       "      <td>27072</td>\n",
       "      <td>Super Star Blast</td>\n",
       "      <td>Action;Indie;Casual</td>\n",
       "      <td>0-20000</td>\n",
       "    </tr>\n",
       "    <tr>\n",
       "      <td>27073</td>\n",
       "      <td>New Yankee 7: Deer Hunters</td>\n",
       "      <td>Indie;Casual;Adventure</td>\n",
       "      <td>0-20000</td>\n",
       "    </tr>\n",
       "    <tr>\n",
       "      <td>27074</td>\n",
       "      <td>Rune Lord</td>\n",
       "      <td>Indie;Casual;Adventure</td>\n",
       "      <td>0-20000</td>\n",
       "    </tr>\n",
       "  </tbody>\n",
       "</table>\n",
       "<p>27075 rows × 3 columns</p>\n",
       "</div>"
      ],
      "text/plain": [
       "                             name                          tags  \\\n",
       "0                  Counter-Strike        Action;FPS;Multiplayer   \n",
       "1           Team Fortress Classic        Action;FPS;Multiplayer   \n",
       "2                   Day of Defeat  FPS;World War II;Multiplayer   \n",
       "3              Deathmatch Classic        Action;FPS;Multiplayer   \n",
       "4       Half-Life: Opposing Force             FPS;Action;Sci-fi   \n",
       "...                           ...                           ...   \n",
       "27070             Room of Pandora        Adventure;Indie;Casual   \n",
       "27071                   Cyber Gun        Action;Indie;Adventure   \n",
       "27072            Super Star Blast           Action;Indie;Casual   \n",
       "27073  New Yankee 7: Deer Hunters        Indie;Casual;Adventure   \n",
       "27074                   Rune Lord        Indie;Casual;Adventure   \n",
       "\n",
       "                  owners  \n",
       "0      10000000-20000000  \n",
       "1       5000000-10000000  \n",
       "2       5000000-10000000  \n",
       "3       5000000-10000000  \n",
       "4       5000000-10000000  \n",
       "...                  ...  \n",
       "27070            0-20000  \n",
       "27071            0-20000  \n",
       "27072            0-20000  \n",
       "27073            0-20000  \n",
       "27074            0-20000  \n",
       "\n",
       "[27075 rows x 3 columns]"
      ]
     },
     "execution_count": 56,
     "metadata": {},
     "output_type": "execute_result"
    }
   ],
   "source": [
    "data = data.rename(columns={'name': 'name', 'steamspy_tags' : 'tags'})\n",
    "data"
   ]
  },
  {
   "cell_type": "code",
   "execution_count": 57,
   "metadata": {},
   "outputs": [
    {
     "data": {
      "text/html": [
       "<div>\n",
       "<style scoped>\n",
       "    .dataframe tbody tr th:only-of-type {\n",
       "        vertical-align: middle;\n",
       "    }\n",
       "\n",
       "    .dataframe tbody tr th {\n",
       "        vertical-align: top;\n",
       "    }\n",
       "\n",
       "    .dataframe thead th {\n",
       "        text-align: right;\n",
       "    }\n",
       "</style>\n",
       "<table border=\"1\" class=\"dataframe\">\n",
       "  <thead>\n",
       "    <tr style=\"text-align: right;\">\n",
       "      <th></th>\n",
       "      <th>name</th>\n",
       "      <th>tags</th>\n",
       "      <th>owners</th>\n",
       "    </tr>\n",
       "  </thead>\n",
       "  <tbody>\n",
       "    <tr>\n",
       "      <td>4673</td>\n",
       "      <td>Dark Matter</td>\n",
       "      <td>Action;Casual;Indie</td>\n",
       "      <td>100000-200000</td>\n",
       "    </tr>\n",
       "    <tr>\n",
       "      <td>7912</td>\n",
       "      <td>Ultimate Arena</td>\n",
       "      <td>Action;Indie;FPS</td>\n",
       "      <td>0-20000</td>\n",
       "    </tr>\n",
       "    <tr>\n",
       "      <td>8227</td>\n",
       "      <td>New York Bus Simulator</td>\n",
       "      <td>Simulation</td>\n",
       "      <td>0-20000</td>\n",
       "    </tr>\n",
       "    <tr>\n",
       "      <td>9471</td>\n",
       "      <td>Taxi</td>\n",
       "      <td>Casual</td>\n",
       "      <td>0-20000</td>\n",
       "    </tr>\n",
       "    <tr>\n",
       "      <td>10337</td>\n",
       "      <td>Mars 2030</td>\n",
       "      <td>Simulation;Mars;Space</td>\n",
       "      <td>0-20000</td>\n",
       "    </tr>\n",
       "    <tr>\n",
       "      <td>11450</td>\n",
       "      <td>Rumpus</td>\n",
       "      <td>Action;Indie;Casual</td>\n",
       "      <td>0-20000</td>\n",
       "    </tr>\n",
       "    <tr>\n",
       "      <td>14286</td>\n",
       "      <td>Invasion</td>\n",
       "      <td>Action;Indie;Arcade</td>\n",
       "      <td>0-20000</td>\n",
       "    </tr>\n",
       "    <tr>\n",
       "      <td>15544</td>\n",
       "      <td>Alter Ego</td>\n",
       "      <td>RPG;Casual;Simulation</td>\n",
       "      <td>0-20000</td>\n",
       "    </tr>\n",
       "    <tr>\n",
       "      <td>15617</td>\n",
       "      <td>Castles</td>\n",
       "      <td>Strategy;Adventure</td>\n",
       "      <td>0-20000</td>\n",
       "    </tr>\n",
       "    <tr>\n",
       "      <td>15622</td>\n",
       "      <td>Luna</td>\n",
       "      <td>Action;Indie;Puzzle-Platformer</td>\n",
       "      <td>0-20000</td>\n",
       "    </tr>\n",
       "    <tr>\n",
       "      <td>16238</td>\n",
       "      <td>Slice&amp;Dice</td>\n",
       "      <td>Casual;Indie;Simulation</td>\n",
       "      <td>0-20000</td>\n",
       "    </tr>\n",
       "    <tr>\n",
       "      <td>16377</td>\n",
       "      <td>Killing Time</td>\n",
       "      <td>Nudity;RPG;Sexual Content</td>\n",
       "      <td>100000-200000</td>\n",
       "    </tr>\n",
       "    <tr>\n",
       "      <td>16742</td>\n",
       "      <td>The Tower</td>\n",
       "      <td>Adventure;Indie;VR</td>\n",
       "      <td>0-20000</td>\n",
       "    </tr>\n",
       "    <tr>\n",
       "      <td>17587</td>\n",
       "      <td>Colony</td>\n",
       "      <td>Simulation;Strategy;Indie</td>\n",
       "      <td>0-20000</td>\n",
       "    </tr>\n",
       "    <tr>\n",
       "      <td>17777</td>\n",
       "      <td>Beyond the Wall</td>\n",
       "      <td>Indie;Adventure;Casual</td>\n",
       "      <td>0-20000</td>\n",
       "    </tr>\n",
       "    <tr>\n",
       "      <td>18507</td>\n",
       "      <td>Solitaire</td>\n",
       "      <td>Indie;Casual;Simulation</td>\n",
       "      <td>0-20000</td>\n",
       "    </tr>\n",
       "    <tr>\n",
       "      <td>18865</td>\n",
       "      <td>Escape Room</td>\n",
       "      <td>Early Access;Adventure;Simulation</td>\n",
       "      <td>0-20000</td>\n",
       "    </tr>\n",
       "    <tr>\n",
       "      <td>18898</td>\n",
       "      <td>Escape</td>\n",
       "      <td>Action;Adventure;Indie</td>\n",
       "      <td>0-20000</td>\n",
       "    </tr>\n",
       "    <tr>\n",
       "      <td>19483</td>\n",
       "      <td>Dodge</td>\n",
       "      <td>Indie;Casual</td>\n",
       "      <td>0-20000</td>\n",
       "    </tr>\n",
       "    <tr>\n",
       "      <td>19686</td>\n",
       "      <td>Mystical</td>\n",
       "      <td>Action</td>\n",
       "      <td>0-20000</td>\n",
       "    </tr>\n",
       "    <tr>\n",
       "      <td>20833</td>\n",
       "      <td>The Great Escape</td>\n",
       "      <td>Action;Strategy;Adventure</td>\n",
       "      <td>0-20000</td>\n",
       "    </tr>\n",
       "    <tr>\n",
       "      <td>21271</td>\n",
       "      <td>Bounce</td>\n",
       "      <td>Indie;Casual</td>\n",
       "      <td>0-20000</td>\n",
       "    </tr>\n",
       "    <tr>\n",
       "      <td>21767</td>\n",
       "      <td>City Builder</td>\n",
       "      <td>Indie;Casual;Simulation</td>\n",
       "      <td>0-20000</td>\n",
       "    </tr>\n",
       "    <tr>\n",
       "      <td>21780</td>\n",
       "      <td>RUSH</td>\n",
       "      <td>Action;Simulation;Racing</td>\n",
       "      <td>20000-50000</td>\n",
       "    </tr>\n",
       "    <tr>\n",
       "      <td>21986</td>\n",
       "      <td>Dark Matter</td>\n",
       "      <td>Action;Indie</td>\n",
       "      <td>0-20000</td>\n",
       "    </tr>\n",
       "    <tr>\n",
       "      <td>22216</td>\n",
       "      <td>Evolution</td>\n",
       "      <td>Casual</td>\n",
       "      <td>0-20000</td>\n",
       "    </tr>\n",
       "    <tr>\n",
       "      <td>22740</td>\n",
       "      <td>Alone</td>\n",
       "      <td>Adventure;Indie;Casual</td>\n",
       "      <td>0-20000</td>\n",
       "    </tr>\n",
       "    <tr>\n",
       "      <td>22868</td>\n",
       "      <td>Scorch</td>\n",
       "      <td>Free to Play;Indie;Casual</td>\n",
       "      <td>50000-100000</td>\n",
       "    </tr>\n",
       "    <tr>\n",
       "      <td>23622</td>\n",
       "      <td>The Mine</td>\n",
       "      <td>Free to Play;Indie;Horror</td>\n",
       "      <td>0-20000</td>\n",
       "    </tr>\n",
       "    <tr>\n",
       "      <td>23683</td>\n",
       "      <td>Ashes</td>\n",
       "      <td>Action;Adventure;Indie</td>\n",
       "      <td>0-20000</td>\n",
       "    </tr>\n",
       "    <tr>\n",
       "      <td>23708</td>\n",
       "      <td>Exodus</td>\n",
       "      <td>Early Access;Action;Indie</td>\n",
       "      <td>0-20000</td>\n",
       "    </tr>\n",
       "    <tr>\n",
       "      <td>23810</td>\n",
       "      <td>Space Maze</td>\n",
       "      <td>Action;Indie;Casual</td>\n",
       "      <td>0-20000</td>\n",
       "    </tr>\n",
       "    <tr>\n",
       "      <td>23824</td>\n",
       "      <td>Nightmare Simulator</td>\n",
       "      <td>Action;Adventure;Indie</td>\n",
       "      <td>0-20000</td>\n",
       "    </tr>\n",
       "    <tr>\n",
       "      <td>24022</td>\n",
       "      <td>Fireflies</td>\n",
       "      <td>Action;Adventure;Indie</td>\n",
       "      <td>0-20000</td>\n",
       "    </tr>\n",
       "    <tr>\n",
       "      <td>24968</td>\n",
       "      <td>Surge</td>\n",
       "      <td>Action;Indie;Adventure</td>\n",
       "      <td>0-20000</td>\n",
       "    </tr>\n",
       "    <tr>\n",
       "      <td>25663</td>\n",
       "      <td>Santa's Workshop</td>\n",
       "      <td>Casual;Simulation</td>\n",
       "      <td>0-20000</td>\n",
       "    </tr>\n",
       "    <tr>\n",
       "      <td>25743</td>\n",
       "      <td>Chaos Theory</td>\n",
       "      <td>Early Access;Adventure;Indie</td>\n",
       "      <td>0-20000</td>\n",
       "    </tr>\n",
       "    <tr>\n",
       "      <td>25792</td>\n",
       "      <td>Zombie Apocalypse</td>\n",
       "      <td>Early Access;Action;Casual</td>\n",
       "      <td>0-20000</td>\n",
       "    </tr>\n",
       "    <tr>\n",
       "      <td>26029</td>\n",
       "      <td>Cortex</td>\n",
       "      <td>Action</td>\n",
       "      <td>0-20000</td>\n",
       "    </tr>\n",
       "    <tr>\n",
       "      <td>26276</td>\n",
       "      <td>Hide and Seek</td>\n",
       "      <td>Early Access;Action;Massively Multiplayer</td>\n",
       "      <td>0-20000</td>\n",
       "    </tr>\n",
       "    <tr>\n",
       "      <td>26418</td>\n",
       "      <td>Experience</td>\n",
       "      <td>RPG;RPGMaker</td>\n",
       "      <td>0-20000</td>\n",
       "    </tr>\n",
       "    <tr>\n",
       "      <td>26587</td>\n",
       "      <td>2048</td>\n",
       "      <td>Indie;Casual;Simulation</td>\n",
       "      <td>0-20000</td>\n",
       "    </tr>\n",
       "  </tbody>\n",
       "</table>\n",
       "</div>"
      ],
      "text/plain": [
       "                         name                                       tags  \\\n",
       "4673              Dark Matter                        Action;Casual;Indie   \n",
       "7912           Ultimate Arena                           Action;Indie;FPS   \n",
       "8227   New York Bus Simulator                                 Simulation   \n",
       "9471                     Taxi                                     Casual   \n",
       "10337               Mars 2030                      Simulation;Mars;Space   \n",
       "11450                  Rumpus                        Action;Indie;Casual   \n",
       "14286                Invasion                        Action;Indie;Arcade   \n",
       "15544               Alter Ego                      RPG;Casual;Simulation   \n",
       "15617                 Castles                         Strategy;Adventure   \n",
       "15622                    Luna             Action;Indie;Puzzle-Platformer   \n",
       "16238              Slice&Dice                    Casual;Indie;Simulation   \n",
       "16377            Killing Time                  Nudity;RPG;Sexual Content   \n",
       "16742               The Tower                         Adventure;Indie;VR   \n",
       "17587                  Colony                  Simulation;Strategy;Indie   \n",
       "17777         Beyond the Wall                     Indie;Adventure;Casual   \n",
       "18507               Solitaire                    Indie;Casual;Simulation   \n",
       "18865             Escape Room          Early Access;Adventure;Simulation   \n",
       "18898                  Escape                     Action;Adventure;Indie   \n",
       "19483                   Dodge                               Indie;Casual   \n",
       "19686                Mystical                                     Action   \n",
       "20833        The Great Escape                  Action;Strategy;Adventure   \n",
       "21271                  Bounce                               Indie;Casual   \n",
       "21767            City Builder                    Indie;Casual;Simulation   \n",
       "21780                    RUSH                   Action;Simulation;Racing   \n",
       "21986             Dark Matter                               Action;Indie   \n",
       "22216               Evolution                                     Casual   \n",
       "22740                   Alone                     Adventure;Indie;Casual   \n",
       "22868                  Scorch                  Free to Play;Indie;Casual   \n",
       "23622                The Mine                  Free to Play;Indie;Horror   \n",
       "23683                   Ashes                     Action;Adventure;Indie   \n",
       "23708                  Exodus                  Early Access;Action;Indie   \n",
       "23810              Space Maze                        Action;Indie;Casual   \n",
       "23824     Nightmare Simulator                     Action;Adventure;Indie   \n",
       "24022               Fireflies                     Action;Adventure;Indie   \n",
       "24968                   Surge                     Action;Indie;Adventure   \n",
       "25663        Santa's Workshop                          Casual;Simulation   \n",
       "25743            Chaos Theory               Early Access;Adventure;Indie   \n",
       "25792       Zombie Apocalypse                 Early Access;Action;Casual   \n",
       "26029                  Cortex                                     Action   \n",
       "26276           Hide and Seek  Early Access;Action;Massively Multiplayer   \n",
       "26418              Experience                               RPG;RPGMaker   \n",
       "26587                    2048                    Indie;Casual;Simulation   \n",
       "\n",
       "              owners  \n",
       "4673   100000-200000  \n",
       "7912         0-20000  \n",
       "8227         0-20000  \n",
       "9471         0-20000  \n",
       "10337        0-20000  \n",
       "11450        0-20000  \n",
       "14286        0-20000  \n",
       "15544        0-20000  \n",
       "15617        0-20000  \n",
       "15622        0-20000  \n",
       "16238        0-20000  \n",
       "16377  100000-200000  \n",
       "16742        0-20000  \n",
       "17587        0-20000  \n",
       "17777        0-20000  \n",
       "18507        0-20000  \n",
       "18865        0-20000  \n",
       "18898        0-20000  \n",
       "19483        0-20000  \n",
       "19686        0-20000  \n",
       "20833        0-20000  \n",
       "21271        0-20000  \n",
       "21767        0-20000  \n",
       "21780    20000-50000  \n",
       "21986        0-20000  \n",
       "22216        0-20000  \n",
       "22740        0-20000  \n",
       "22868   50000-100000  \n",
       "23622        0-20000  \n",
       "23683        0-20000  \n",
       "23708        0-20000  \n",
       "23810        0-20000  \n",
       "23824        0-20000  \n",
       "24022        0-20000  \n",
       "24968        0-20000  \n",
       "25663        0-20000  \n",
       "25743        0-20000  \n",
       "25792        0-20000  \n",
       "26029        0-20000  \n",
       "26276        0-20000  \n",
       "26418        0-20000  \n",
       "26587        0-20000  "
      ]
     },
     "execution_count": 57,
     "metadata": {},
     "output_type": "execute_result"
    }
   ],
   "source": [
    "data.iloc[np.where(data['name'].duplicated() == True)]"
   ]
  },
  {
   "cell_type": "code",
   "execution_count": 58,
   "metadata": {},
   "outputs": [
    {
     "data": {
      "text/html": [
       "<div>\n",
       "<style scoped>\n",
       "    .dataframe tbody tr th:only-of-type {\n",
       "        vertical-align: middle;\n",
       "    }\n",
       "\n",
       "    .dataframe tbody tr th {\n",
       "        vertical-align: top;\n",
       "    }\n",
       "\n",
       "    .dataframe thead th {\n",
       "        text-align: right;\n",
       "    }\n",
       "</style>\n",
       "<table border=\"1\" class=\"dataframe\">\n",
       "  <thead>\n",
       "    <tr style=\"text-align: right;\">\n",
       "      <th></th>\n",
       "      <th>name</th>\n",
       "      <th>tags</th>\n",
       "      <th>owners</th>\n",
       "    </tr>\n",
       "  </thead>\n",
       "  <tbody>\n",
       "    <tr>\n",
       "      <td>23846</td>\n",
       "      <td>Cortex</td>\n",
       "      <td>Casual;Indie;Strategy</td>\n",
       "      <td>0-20000</td>\n",
       "    </tr>\n",
       "    <tr>\n",
       "      <td>26029</td>\n",
       "      <td>Cortex</td>\n",
       "      <td>Action</td>\n",
       "      <td>0-20000</td>\n",
       "    </tr>\n",
       "  </tbody>\n",
       "</table>\n",
       "</div>"
      ],
      "text/plain": [
       "         name                   tags   owners\n",
       "23846  Cortex  Casual;Indie;Strategy  0-20000\n",
       "26029  Cortex                 Action  0-20000"
      ]
     },
     "execution_count": 58,
     "metadata": {},
     "output_type": "execute_result"
    }
   ],
   "source": [
    "data[data.name == 'Cortex']"
   ]
  },
  {
   "cell_type": "code",
   "execution_count": 59,
   "metadata": {},
   "outputs": [
    {
     "data": {
      "text/plain": [
       "(27033, 3)"
      ]
     },
     "execution_count": 59,
     "metadata": {},
     "output_type": "execute_result"
    }
   ],
   "source": [
    "data = data.drop(data[data['name'].duplicated() == True].index)\n",
    "data.shape"
   ]
  },
  {
   "cell_type": "code",
   "execution_count": 60,
   "metadata": {},
   "outputs": [
    {
     "data": {
      "text/html": [
       "<div>\n",
       "<style scoped>\n",
       "    .dataframe tbody tr th:only-of-type {\n",
       "        vertical-align: middle;\n",
       "    }\n",
       "\n",
       "    .dataframe tbody tr th {\n",
       "        vertical-align: top;\n",
       "    }\n",
       "\n",
       "    .dataframe thead th {\n",
       "        text-align: right;\n",
       "    }\n",
       "</style>\n",
       "<table border=\"1\" class=\"dataframe\">\n",
       "  <thead>\n",
       "    <tr style=\"text-align: right;\">\n",
       "      <th></th>\n",
       "      <th>name</th>\n",
       "      <th>tags</th>\n",
       "      <th>owners</th>\n",
       "    </tr>\n",
       "  </thead>\n",
       "  <tbody>\n",
       "  </tbody>\n",
       "</table>\n",
       "</div>"
      ],
      "text/plain": [
       "Empty DataFrame\n",
       "Columns: [name, tags, owners]\n",
       "Index: []"
      ]
     },
     "execution_count": 60,
     "metadata": {},
     "output_type": "execute_result"
    }
   ],
   "source": [
    "data.iloc[np.where(data['name'].duplicated() == True)]"
   ]
  },
  {
   "cell_type": "code",
   "execution_count": 11,
   "metadata": {},
   "outputs": [
    {
     "data": {
      "text/html": [
       "<div>\n",
       "<style scoped>\n",
       "    .dataframe tbody tr th:only-of-type {\n",
       "        vertical-align: middle;\n",
       "    }\n",
       "\n",
       "    .dataframe tbody tr th {\n",
       "        vertical-align: top;\n",
       "    }\n",
       "\n",
       "    .dataframe thead th {\n",
       "        text-align: right;\n",
       "    }\n",
       "</style>\n",
       "<table border=\"1\" class=\"dataframe\">\n",
       "  <thead>\n",
       "    <tr style=\"text-align: right;\">\n",
       "      <th></th>\n",
       "      <th>name</th>\n",
       "      <th>tags</th>\n",
       "      <th>owners</th>\n",
       "    </tr>\n",
       "  </thead>\n",
       "  <tbody>\n",
       "    <tr>\n",
       "      <td>122</td>\n",
       "      <td>Poker Superstars II</td>\n",
       "      <td>Card Game</td>\n",
       "      <td>0-20000</td>\n",
       "    </tr>\n",
       "    <tr>\n",
       "      <td>124</td>\n",
       "      <td>RACE: Caterham Expansion</td>\n",
       "      <td>Racing;Simulation</td>\n",
       "      <td>0-20000</td>\n",
       "    </tr>\n",
       "    <tr>\n",
       "      <td>145</td>\n",
       "      <td>Zen of Sudoku</td>\n",
       "      <td>Casual;Indie;Puzzle</td>\n",
       "      <td>0-20000</td>\n",
       "    </tr>\n",
       "    <tr>\n",
       "      <td>188</td>\n",
       "      <td>Azada</td>\n",
       "      <td>Casual;Indie;Puzzle</td>\n",
       "      <td>0-20000</td>\n",
       "    </tr>\n",
       "    <tr>\n",
       "      <td>248</td>\n",
       "      <td>Haunted House™</td>\n",
       "      <td>Adventure</td>\n",
       "      <td>0-20000</td>\n",
       "    </tr>\n",
       "    <tr>\n",
       "      <td>...</td>\n",
       "      <td>...</td>\n",
       "      <td>...</td>\n",
       "      <td>...</td>\n",
       "    </tr>\n",
       "    <tr>\n",
       "      <td>27070</td>\n",
       "      <td>Room of Pandora</td>\n",
       "      <td>Adventure;Indie;Casual</td>\n",
       "      <td>0-20000</td>\n",
       "    </tr>\n",
       "    <tr>\n",
       "      <td>27071</td>\n",
       "      <td>Cyber Gun</td>\n",
       "      <td>Action;Indie;Adventure</td>\n",
       "      <td>0-20000</td>\n",
       "    </tr>\n",
       "    <tr>\n",
       "      <td>27072</td>\n",
       "      <td>Super Star Blast</td>\n",
       "      <td>Action;Indie;Casual</td>\n",
       "      <td>0-20000</td>\n",
       "    </tr>\n",
       "    <tr>\n",
       "      <td>27073</td>\n",
       "      <td>New Yankee 7: Deer Hunters</td>\n",
       "      <td>Indie;Casual;Adventure</td>\n",
       "      <td>0-20000</td>\n",
       "    </tr>\n",
       "    <tr>\n",
       "      <td>27074</td>\n",
       "      <td>Rune Lord</td>\n",
       "      <td>Indie;Casual;Adventure</td>\n",
       "      <td>0-20000</td>\n",
       "    </tr>\n",
       "  </tbody>\n",
       "</table>\n",
       "<p>18558 rows × 3 columns</p>\n",
       "</div>"
      ],
      "text/plain": [
       "                             name                    tags   owners\n",
       "122           Poker Superstars II               Card Game  0-20000\n",
       "124      RACE: Caterham Expansion       Racing;Simulation  0-20000\n",
       "145                 Zen of Sudoku     Casual;Indie;Puzzle  0-20000\n",
       "188                         Azada     Casual;Indie;Puzzle  0-20000\n",
       "248                Haunted House™               Adventure  0-20000\n",
       "...                           ...                     ...      ...\n",
       "27070             Room of Pandora  Adventure;Indie;Casual  0-20000\n",
       "27071                   Cyber Gun  Action;Indie;Adventure  0-20000\n",
       "27072            Super Star Blast     Action;Indie;Casual  0-20000\n",
       "27073  New Yankee 7: Deer Hunters  Indie;Casual;Adventure  0-20000\n",
       "27074                   Rune Lord  Indie;Casual;Adventure  0-20000\n",
       "\n",
       "[18558 rows x 3 columns]"
      ]
     },
     "execution_count": 11,
     "metadata": {},
     "output_type": "execute_result"
    }
   ],
   "source": [
    "data.iloc[np.where(data['owners'] == '0-20000')]"
   ]
  },
  {
   "cell_type": "code",
   "execution_count": 12,
   "metadata": {},
   "outputs": [
    {
     "data": {
      "text/plain": [
       "(8475, 3)"
      ]
     },
     "execution_count": 12,
     "metadata": {},
     "output_type": "execute_result"
    }
   ],
   "source": [
    "data = data.drop(data[data['owners'] == '0-20000'].index)\n",
    "data.shape"
   ]
  },
  {
   "cell_type": "code",
   "execution_count": 13,
   "metadata": {},
   "outputs": [
    {
     "data": {
      "text/html": [
       "<div>\n",
       "<style scoped>\n",
       "    .dataframe tbody tr th:only-of-type {\n",
       "        vertical-align: middle;\n",
       "    }\n",
       "\n",
       "    .dataframe tbody tr th {\n",
       "        vertical-align: top;\n",
       "    }\n",
       "\n",
       "    .dataframe thead th {\n",
       "        text-align: right;\n",
       "    }\n",
       "</style>\n",
       "<table border=\"1\" class=\"dataframe\">\n",
       "  <thead>\n",
       "    <tr style=\"text-align: right;\">\n",
       "      <th></th>\n",
       "      <th>name</th>\n",
       "      <th>tags</th>\n",
       "      <th>owners</th>\n",
       "    </tr>\n",
       "  </thead>\n",
       "  <tbody>\n",
       "  </tbody>\n",
       "</table>\n",
       "</div>"
      ],
      "text/plain": [
       "Empty DataFrame\n",
       "Columns: [name, tags, owners]\n",
       "Index: []"
      ]
     },
     "execution_count": 13,
     "metadata": {},
     "output_type": "execute_result"
    }
   ],
   "source": [
    "data.iloc[np.where(data['owners'] == '0-20000')]"
   ]
  },
  {
   "cell_type": "code",
   "execution_count": 14,
   "metadata": {},
   "outputs": [
    {
     "data": {
      "text/html": [
       "<div>\n",
       "<style scoped>\n",
       "    .dataframe tbody tr th:only-of-type {\n",
       "        vertical-align: middle;\n",
       "    }\n",
       "\n",
       "    .dataframe tbody tr th {\n",
       "        vertical-align: top;\n",
       "    }\n",
       "\n",
       "    .dataframe thead th {\n",
       "        text-align: right;\n",
       "    }\n",
       "</style>\n",
       "<table border=\"1\" class=\"dataframe\">\n",
       "  <thead>\n",
       "    <tr style=\"text-align: right;\">\n",
       "      <th></th>\n",
       "      <th>name</th>\n",
       "      <th>tags</th>\n",
       "      <th>owners</th>\n",
       "    </tr>\n",
       "  </thead>\n",
       "  <tbody>\n",
       "    <tr>\n",
       "      <td>0</td>\n",
       "      <td>Counter-Strike</td>\n",
       "      <td>Action;FPS;Multiplayer</td>\n",
       "      <td>10000000-20000000</td>\n",
       "    </tr>\n",
       "    <tr>\n",
       "      <td>1</td>\n",
       "      <td>Team Fortress Classic</td>\n",
       "      <td>Action;FPS;Multiplayer</td>\n",
       "      <td>5000000-10000000</td>\n",
       "    </tr>\n",
       "    <tr>\n",
       "      <td>2</td>\n",
       "      <td>Day of Defeat</td>\n",
       "      <td>FPS;World War II;Multiplayer</td>\n",
       "      <td>5000000-10000000</td>\n",
       "    </tr>\n",
       "    <tr>\n",
       "      <td>3</td>\n",
       "      <td>Deathmatch Classic</td>\n",
       "      <td>Action;FPS;Multiplayer</td>\n",
       "      <td>5000000-10000000</td>\n",
       "    </tr>\n",
       "    <tr>\n",
       "      <td>4</td>\n",
       "      <td>Half-Life: Opposing Force</td>\n",
       "      <td>FPS;Action;Sci-fi</td>\n",
       "      <td>5000000-10000000</td>\n",
       "    </tr>\n",
       "  </tbody>\n",
       "</table>\n",
       "</div>"
      ],
      "text/plain": [
       "                        name                          tags             owners\n",
       "0             Counter-Strike        Action;FPS;Multiplayer  10000000-20000000\n",
       "1      Team Fortress Classic        Action;FPS;Multiplayer   5000000-10000000\n",
       "2              Day of Defeat  FPS;World War II;Multiplayer   5000000-10000000\n",
       "3         Deathmatch Classic        Action;FPS;Multiplayer   5000000-10000000\n",
       "4  Half-Life: Opposing Force             FPS;Action;Sci-fi   5000000-10000000"
      ]
     },
     "execution_count": 14,
     "metadata": {},
     "output_type": "execute_result"
    }
   ],
   "source": [
    "data.head()"
   ]
  },
  {
   "cell_type": "code",
   "execution_count": 61,
   "metadata": {},
   "outputs": [
    {
     "name": "stdout",
     "output_type": "stream",
     "text": [
      "Tags : 339\n",
      "['Indie', 'Action', 'Casual', 'Adventure', 'Strategy', 'Simulation', 'Early Access', 'RPG', 'Free to Play', 'Puzzle', 'VR', 'Sports', 'Racing', 'Platformer', 'Nudity', 'Sexual Content', 'Visual Novel', 'Violent', 'Anime', 'Horror', 'Point & Click', 'Gore', 'Hidden Object', 'Multiplayer', 'FPS', 'Massively Multiplayer', 'Pixel Graphics', \"Shoot 'Em Up\", 'Open World', 'Survival', 'Space', 'Arcade', 'Female Protagonist', 'RPGMaker', 'RTS', 'Turn-Based', 'Classic', 'Tower Defense', 'Card Game', '2D', 'Singleplayer', 'Story Rich', 'Zombies', 'Sci-fi', 'Utilities', 'World War II', 'Great Soundtrack', 'Co-op', 'Match 3', 'Fighting', 'Management', 'Fantasy', 'Retro', 'Music', 'Board Game', 'Rogue-like', 'Turn-Based Strategy', 'Shooter', 'Bullet Hell', 'Sandbox', 'JRPG', 'Stealth', 'First-Person', 'Comedy', 'Family Friendly', 'Atmospheric', 'Difficult', 'Education', 'Hack and Slash', 'Local Multiplayer', 'Design & Illustration', 'Memes', 'Psychological Horror', 'City Builder', 'Historical', 'Mystery', 'Flight', 'Clicker', 'Building', 'Driving', 'Cyberpunk', 'Puzzle-Platformer', 'Metroidvania', 'Local Co-Op', 'Funny', 'Walking Simulator', 'Exploration', 'Animation & Modeling', 'Physics', 'Tactical', 'Medieval', 'Survival Horror', 'Rhythm', \"Beat 'em up\", 'Relaxing', 'Dungeon Crawler', 'Twin Stick Shooter', '4 Player Local', 'Third-Person Shooter', 'Detective', '3D Platformer', '2D Fighter', 'Post-apocalyptic', 'Cute', 'Naval', 'Otome', '4X', 'Trains', 'Mature', 'Mechs', 'Dinosaurs', 'FMV', 'Grand Strategy', 'Time Management', 'Dating Sim', 'Choices Matter', 'Video Production', 'Pirates', 'MMORPG', 'Minimalist', 'Warhammer 40K', 'Choose Your Own Adventure', 'Star Wars', 'Top-Down Shooter', 'Base-Building', 'Lovecraftian', 'Programming', 'Third Person', 'War', 'VR Only', 'Steampunk', 'Agriculture', 'Battle Royale', 'Western', 'World War I', 'Parkour', 'Game Development', 'Crafting', 'Text-Based', 'Superhero', 'Top-Down', 'LEGO', 'Robots', 'Turn-Based Tactics', 'Tanks', 'Destruction', 'Turn-Based Combat', 'Hacking', 'Action RPG', 'Isometric', 'Audio Production', 'Rogue-lite', 'Military', 'Surreal', 'Realistic', 'Fast-Paced', 'Wargame', 'Vampire', 'Offroad', 'Economy', 'Fishing', 'Short', 'Chess', 'Software', 'Level Editor', 'Pinball', 'Cats', 'Character Customization', 'Golf', 'Noir', 'Psychedelic', 'Runner', 'Football', 'Tennis', 'MOBA', 'Ninja', 'Underwater', 'Trading Card Game', 'Hunting', 'Competitive', 'Crime', 'Horses', 'Dragons', 'Side Scroller', 'Souls-like', 'Cold War', 'Magic', 'Politics', 'Assassin', 'Software Training', 'Hex Grid', 'Baseball', 'God Game', 'On-Rails Shooter', 'Sokoban', 'PvP', 'Procedural Generation', 'Hand-drawn', 'Word Game', 'Interactive Fiction', 'Villain Protagonist', 'Dark Humor', 'Aliens', 'Remake', 'Batman', 'Basketball', 'Motocross', 'Web Publishing', 'Online Co-Op', 'Soccer', 'Illuminati', 'Sniper', 'Trading', 'Space Sim', 'Mythology', 'Photo Editing', 'Wrestling', 'Action-Adventure', 'Mouse only', 'Cult Classic', 'Mini Golf', 'Masterpiece', 'Dog', '6DOF', 'Swordplay', 'Political', \"1990's\", 'Romance', 'Faith', '1980s', 'Martial Arts', 'Replay Value', 'Satire', 'Dark Fantasy', 'Typing', 'Mining', 'Bikes', 'Arena Shooter', 'Character Action Game', 'Multiple Endings', 'Resource Management', 'Split Screen', 'Bullet Time', 'Mars', 'Skateboarding', 'Games Workshop', 'Hockey', 'Dark', 'Comic Book', 'Abstract', 'Colorful', 'Rome', 'Submarine', 'Capitalism', 'Benchmark', 'Lara Croft', 'Old School', 'Experimental', 'Dystopian ', 'Futuristic', 'Science', 'BMX', 'Drama', 'Time Manipulation', 'Party-Based RPG', 'Time Travel', 'Real-Time with Pause', 'Lemmings', 'Documentary', 'Team-Based', 'Narration', 'Touch-Friendly', 'Motorbike', 'Pool', 'Werewolves', 'Snow', 'Quick-Time Events', 'Demons', 'Gambling', 'Spelling', 'Grid-Based Movement', 'Controller', 'Loot', '3D', 'Cartoony', '360 Video', 'Real-Time', 'Philisophical', 'Beautiful', 'Bowling', 'Gothic', 'Tactical RPG', 'Cycling', 'Cartoon', 'Voice Control', 'America', 'Linear', 'Heist', 'CRPG', 'Alternate History', 'Class-Based', 'Supernatural', 'Strategy RPG', 'Psychological', 'Score Attack', 'e-sports', 'Snowboarding', 'Real Time Tactics', 'Thriller', 'Dungeons & Dragons', 'Voxel', 'Moddable', 'Time Attack', 'Movie', 'Spectacle fighter', 'Inventory Management', 'Intentionally Awkward Controls', 'Perma Death', 'Kickstarter', 'Parody ', 'Cinematic', 'Nonlinear', 'Diplomacy', 'Sailing', 'Skating', 'Investigation', 'Mystery Dungeon', 'Music-Based Procedural Generation', 'Epic', 'GameMaker', 'Gun Customization', 'Conversation', '3D Vision', 'Mod', '2.5D', 'Blood', 'NSFW', 'Stylized', 'Logic']\n"
     ]
    }
   ],
   "source": [
    "import collections\n",
    "\n",
    "tags = {}\n",
    "for i in data.tags:\n",
    "    for t in i.split(';'):\n",
    "        if(tags.get(t)):\n",
    "            c = tags.get(t) + 1\n",
    "            tags.update({t: c})\n",
    "        else:\n",
    "            tags.update({t: 1})\n",
    "\n",
    "# tags = sorted(tags)\n",
    "# Ordenado por numero\n",
    "tags = sorted(tags, key=tags.get, reverse=True)\n",
    "print(\"Tags :\", len(tags))\n",
    "print(tags)"
   ]
  },
  {
   "cell_type": "code",
   "execution_count": 62,
   "metadata": {},
   "outputs": [
    {
     "name": "stdout",
     "output_type": "stream",
     "text": [
      "Juegos:  27033\n"
     ]
    }
   ],
   "source": [
    "games = []\n",
    "for g in data.name:\n",
    "    games.append(g)\n",
    "\n",
    "print(\"Juegos: \", len(games))"
   ]
  },
  {
   "cell_type": "code",
   "execution_count": 63,
   "metadata": {},
   "outputs": [],
   "source": [
    "### Diccionario de todos los tag con sus correspondientes juegos\n",
    "data_list = data.values.tolist()\n",
    "tag_dict = {}\n",
    "for t in tags:\n",
    "    l = []\n",
    "    for d in data_list:\n",
    "        if d[1].split(';').count(t) > 0:\n",
    "            l.append(d[0])\n",
    "    tag_dict.update({t: l})"
   ]
  },
  {
   "cell_type": "code",
   "execution_count": 64,
   "metadata": {},
   "outputs": [
    {
     "data": {
      "text/plain": [
       "['INSIDE',\n",
       " 'The Guilt and the Shadow',\n",
       " 'Albert and Otto',\n",
       " 'Mortificatio',\n",
       " 'Betweenside']"
      ]
     },
     "execution_count": 64,
     "metadata": {},
     "output_type": "execute_result"
    }
   ],
   "source": [
    "tag_dict.get('Dark')"
   ]
  },
  {
   "cell_type": "code",
   "execution_count": 65,
   "metadata": {},
   "outputs": [],
   "source": [
    "def tags_in_common(a, b):\n",
    "    n = 0\n",
    "    for i in a:\n",
    "        for j in b:\n",
    "            if i == j:\n",
    "                n = n+1\n",
    "    return n"
   ]
  },
  {
   "cell_type": "code",
   "execution_count": 66,
   "metadata": {},
   "outputs": [
    {
     "name": "stdout",
     "output_type": "stream",
     "text": [
      "338\r"
     ]
    }
   ],
   "source": [
    "G_tags = nx.Graph()\n",
    "G_tags.add_nodes_from(tags)\n",
    "\n",
    "tag_list = list(tag_dict.items())\n",
    "\n",
    "i = 0\n",
    "while i < len(tag_dict):\n",
    "    print(i, end='\\r')\n",
    "    \n",
    "    t1 = tag_list[i][1] # Lista de tags juego 1\n",
    "    \n",
    "    j = i + 1\n",
    "    while j < len(tag_dict):\n",
    "        t2 = tag_list[j][1] # Lista de tags juego 2\n",
    "        \n",
    "        n = tags_in_common(t1, t2)\n",
    "        if n > 0:\n",
    "            G_tags.add_edge(tag_list[i][0], tag_list[j][0], weight=n)\n",
    "        \n",
    "        j += 1\n",
    "    i += 1\n",
    "\n",
    "# i = 0\n",
    "# while i < len(data_list):\n",
    "#     print(i, end='\\r')\n",
    "\n",
    "#     t1 = data_list[i][1].split(';') # Lista de tags juego 1\n",
    "    \n",
    "#     j = i + 1 \n",
    "#     while j < len(data_list): # Recorrer resto de juegos\n",
    "#         t2 = data_list[j][1].split(';') # Lista de tags juego 2\n",
    "        \n",
    "#         n = tags_in_common(t1, t2)\n",
    "#         if n > 0:\n",
    "#             G_tags.add_edge(data_list[i][0], data_list[j][0], weight=n)\n",
    "            \n",
    "\n",
    "#         j += 1\n",
    "#     i += 1"
   ]
  },
  {
   "cell_type": "code",
   "execution_count": 67,
   "metadata": {},
   "outputs": [
    {
     "data": {
      "text/plain": [
       "339"
      ]
     },
     "execution_count": 67,
     "metadata": {},
     "output_type": "execute_result"
    }
   ],
   "source": [
    "nx.number_of_nodes(G_tags)"
   ]
  },
  {
   "cell_type": "code",
   "execution_count": 68,
   "metadata": {},
   "outputs": [
    {
     "data": {
      "text/plain": [
       "3445"
      ]
     },
     "execution_count": 68,
     "metadata": {},
     "output_type": "execute_result"
    }
   ],
   "source": [
    "nx.number_of_edges(G_tags)"
   ]
  },
  {
   "cell_type": "code",
   "execution_count": 69,
   "metadata": {},
   "outputs": [],
   "source": [
    "nx.write_gexf(G_tags, './TagNetwork2.gexf')"
   ]
  },
  {
   "cell_type": "code",
   "execution_count": 20,
   "metadata": {},
   "outputs": [
    {
     "name": "stdout",
     "output_type": "stream",
     "text": [
      "8474\r"
     ]
    }
   ],
   "source": [
    "# G = nx.Graph()\n",
    "# G.add_nodes_from(games)\n",
    "\n",
    "# data_list = data.values.tolist()\n",
    "\n",
    "# i = 0\n",
    "# while i < len(data_list):\n",
    "#     print(i, end='\\r')\n",
    "\n",
    "#     t1 = data_list[i][1].split(';') # Lista de tags juego 1\n",
    "    \n",
    "#     j = i + 1 \n",
    "#     while j < len(data_list): # Recorrer resto de juegos\n",
    "#         t2 = data_list[j][1].split(';') # Lista de tags juego 2\n",
    "        \n",
    "#         n = tags_in_common(t1, t2)\n",
    "#         if n > 0:\n",
    "#             G.add_edge(data_list[i][0], data_list[j][0], weight=n)\n",
    "            \n",
    "\n",
    "#         j += 1\n",
    "    \n",
    "#     i += 1"
   ]
  },
  {
   "cell_type": "code",
   "execution_count": 21,
   "metadata": {},
   "outputs": [
    {
     "data": {
      "text/plain": [
       "8475"
      ]
     },
     "execution_count": 21,
     "metadata": {},
     "output_type": "execute_result"
    }
   ],
   "source": [
    "# nx.number_of_nodes(G)"
   ]
  },
  {
   "cell_type": "code",
   "execution_count": 22,
   "metadata": {},
   "outputs": [
    {
     "data": {
      "text/plain": [
       "14534690"
      ]
     },
     "execution_count": 22,
     "metadata": {},
     "output_type": "execute_result"
    }
   ],
   "source": [
    "# nx.number_of_edges(G)"
   ]
  },
  {
   "cell_type": "code",
   "execution_count": 23,
   "metadata": {},
   "outputs": [],
   "source": [
    "# nx.write_gexf(G, 'Seam.gexf')"
   ]
  },
  {
   "cell_type": "code",
   "execution_count": 47,
   "metadata": {},
   "outputs": [
    {
     "name": "stdout",
     "output_type": "stream",
     "text": [
      "27032\r"
     ]
    }
   ],
   "source": [
    "# import csv\n",
    "\n",
    "# with open('adj_list.csv', mode='w', encoding=\"utf-8\") as file:\n",
    "#     writer = csv.writer(file)\n",
    "#     writer.writerow([\"source\", \"target\"])\n",
    "    \n",
    "#     i = 0\n",
    "#     while i < len(data_list):\n",
    "#         print(i, end='\\r')\n",
    "\n",
    "#         t1 = data_list[i][1].split(';') # Lista de tags juego 1\n",
    "\n",
    "#         j = i + 1 \n",
    "#         while j < len(data_list): # Recorrer resto de juegos\n",
    "#             t2 = data_list[j][1].split(';') # Lista de tags juego 2\n",
    "\n",
    "#             n = tags_in_common(t1, t2)\n",
    "#             for m in range(n): # Añadir num de aristas correspondientes\n",
    "#                 writer.writerow([data_list[i][0], data_list[j][0]])\n",
    "\n",
    "#             j += 1\n",
    "\n",
    "#         i += 1"
   ]
  },
  {
   "cell_type": "code",
   "execution_count": 17,
   "metadata": {},
   "outputs": [
    {
     "name": "stdout",
     "output_type": "stream",
     "text": [
      "99\r"
     ]
    }
   ],
   "source": [
    "# import csv\n",
    "\n",
    "# with open('prueba.csv', mode='w', encoding=\"utf-8\") as file:\n",
    "#     writer = csv.writer(file)\n",
    "#     writer.writerow([\"source\", \"target\"])\n",
    "    \n",
    "#     i = 0\n",
    "#     while i < 100:\n",
    "#         print(i, end='\\r')\n",
    "\n",
    "#         t1 = data_list[i][1].split(';') # Lista de tags juego 1\n",
    "\n",
    "#         j = i + 1 \n",
    "#         while j < 100: # Recorrer resto de juegos\n",
    "#             t2 = data_list[j][1].split(';') # Lista de tags juego 2\n",
    "\n",
    "#             n = tags_in_common(t1, t2)\n",
    "#             for m in range(n): # Añadir num de aristas correspondientes\n",
    "#                 writer.writerow([data_list[i][0], data_list[j][0]])\n",
    "\n",
    "#             j += 1\n",
    "\n",
    "#         i += 1"
   ]
  },
  {
   "cell_type": "code",
   "execution_count": null,
   "metadata": {},
   "outputs": [],
   "source": []
  }
 ],
 "metadata": {
  "kernelspec": {
   "display_name": "Python 3",
   "language": "python",
   "name": "python3"
  },
  "language_info": {
   "codemirror_mode": {
    "name": "ipython",
    "version": 3
   },
   "file_extension": ".py",
   "mimetype": "text/x-python",
   "name": "python",
   "nbconvert_exporter": "python",
   "pygments_lexer": "ipython3",
   "version": "3.7.4"
  }
 },
 "nbformat": 4,
 "nbformat_minor": 4
}
