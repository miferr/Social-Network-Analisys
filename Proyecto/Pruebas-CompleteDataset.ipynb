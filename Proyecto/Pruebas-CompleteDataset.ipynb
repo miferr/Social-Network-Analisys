{
 "cells": [
  {
   "cell_type": "code",
   "execution_count": 1,
   "metadata": {},
   "outputs": [],
   "source": [
    "import pandas as pd\n",
    "import numpy as np\n",
    "import matplotlib.pyplot as plt\n",
    "import networkx as nx"
   ]
  },
  {
   "cell_type": "code",
   "execution_count": 2,
   "metadata": {},
   "outputs": [
    {
     "data": {
      "text/plain": [
       "(40833, 20)"
      ]
     },
     "execution_count": 2,
     "metadata": {},
     "output_type": "execute_result"
    }
   ],
   "source": [
    "df = pd.read_csv(\"STEAM-CompleteDataset/steam_games.csv\")\n",
    "\n",
    "df.shape"
   ]
  },
  {
   "cell_type": "code",
   "execution_count": 3,
   "metadata": {},
   "outputs": [
    {
     "data": {
      "text/plain": [
       "(38261, 20)"
      ]
     },
     "execution_count": 3,
     "metadata": {},
     "output_type": "execute_result"
    }
   ],
   "source": [
    "df = df.drop(df[df.types == 'bundle'].index)\n",
    "\n",
    "df.shape"
   ]
  },
  {
   "cell_type": "code",
   "execution_count": 4,
   "metadata": {},
   "outputs": [
    {
     "data": {
      "text/plain": [
       "(38261, 2)"
      ]
     },
     "execution_count": 4,
     "metadata": {},
     "output_type": "execute_result"
    }
   ],
   "source": [
    "data = df[['name', 'popular_tags']]\n",
    "data.shape"
   ]
  },
  {
   "cell_type": "code",
   "execution_count": 5,
   "metadata": {},
   "outputs": [
    {
     "data": {
      "text/plain": [
       "True"
      ]
     },
     "execution_count": 5,
     "metadata": {},
     "output_type": "execute_result"
    }
   ],
   "source": [
    "data.isnull().values.any()"
   ]
  },
  {
   "cell_type": "code",
   "execution_count": 6,
   "metadata": {},
   "outputs": [
    {
     "data": {
      "text/plain": [
       "(37886, 2)"
      ]
     },
     "execution_count": 6,
     "metadata": {},
     "output_type": "execute_result"
    }
   ],
   "source": [
    "data = data.dropna()\n",
    "data.shape"
   ]
  },
  {
   "cell_type": "code",
   "execution_count": 7,
   "metadata": {},
   "outputs": [
    {
     "data": {
      "text/plain": [
       "False"
      ]
     },
     "execution_count": 7,
     "metadata": {},
     "output_type": "execute_result"
    }
   ],
   "source": [
    "data.isnull().values.any()"
   ]
  },
  {
   "cell_type": "code",
   "execution_count": 8,
   "metadata": {},
   "outputs": [
    {
     "data": {
      "text/html": [
       "<div>\n",
       "<style scoped>\n",
       "    .dataframe tbody tr th:only-of-type {\n",
       "        vertical-align: middle;\n",
       "    }\n",
       "\n",
       "    .dataframe tbody tr th {\n",
       "        vertical-align: top;\n",
       "    }\n",
       "\n",
       "    .dataframe thead th {\n",
       "        text-align: right;\n",
       "    }\n",
       "</style>\n",
       "<table border=\"1\" class=\"dataframe\">\n",
       "  <thead>\n",
       "    <tr style=\"text-align: right;\">\n",
       "      <th></th>\n",
       "      <th>name</th>\n",
       "      <th>popular_tags</th>\n",
       "    </tr>\n",
       "  </thead>\n",
       "  <tbody>\n",
       "    <tr>\n",
       "      <td>0</td>\n",
       "      <td>DOOM</td>\n",
       "      <td>FPS,Gore,Action,Demons,Shooter,First-Person,Gr...</td>\n",
       "    </tr>\n",
       "    <tr>\n",
       "      <td>1</td>\n",
       "      <td>PLAYERUNKNOWN'S BATTLEGROUNDS</td>\n",
       "      <td>Survival,Shooter,Multiplayer,Battle Royale,PvP...</td>\n",
       "    </tr>\n",
       "    <tr>\n",
       "      <td>2</td>\n",
       "      <td>BATTLETECH</td>\n",
       "      <td>Mechs,Strategy,Turn-Based,Turn-Based Tactics,S...</td>\n",
       "    </tr>\n",
       "    <tr>\n",
       "      <td>3</td>\n",
       "      <td>DayZ</td>\n",
       "      <td>Survival,Zombies,Open World,Multiplayer,PvP,Ma...</td>\n",
       "    </tr>\n",
       "    <tr>\n",
       "      <td>4</td>\n",
       "      <td>EVE Online</td>\n",
       "      <td>Space,Massively Multiplayer,Sci-fi,Sandbox,MMO...</td>\n",
       "    </tr>\n",
       "    <tr>\n",
       "      <td>...</td>\n",
       "      <td>...</td>\n",
       "      <td>...</td>\n",
       "    </tr>\n",
       "    <tr>\n",
       "      <td>40828</td>\n",
       "      <td>Rocksmith® 2014 Edition – Remastered – Sabaton...</td>\n",
       "      <td>Casual,Simulation</td>\n",
       "    </tr>\n",
       "    <tr>\n",
       "      <td>40829</td>\n",
       "      <td>Rocksmith® 2014 Edition – Remastered – Stone T...</td>\n",
       "      <td>Casual,Simulation</td>\n",
       "    </tr>\n",
       "    <tr>\n",
       "      <td>40830</td>\n",
       "      <td>Fantasy Grounds - Quests of Doom 4: A Midnight...</td>\n",
       "      <td>RPG,Indie,Strategy,Software,Turn-Based,Fantasy...</td>\n",
       "    </tr>\n",
       "    <tr>\n",
       "      <td>40831</td>\n",
       "      <td>Mega Man X5 Sound Collection</td>\n",
       "      <td>Action</td>\n",
       "    </tr>\n",
       "    <tr>\n",
       "      <td>40832</td>\n",
       "      <td>Stories In Stone</td>\n",
       "      <td>RPG,Adventure</td>\n",
       "    </tr>\n",
       "  </tbody>\n",
       "</table>\n",
       "<p>37886 rows × 2 columns</p>\n",
       "</div>"
      ],
      "text/plain": [
       "                                                    name  \\\n",
       "0                                                   DOOM   \n",
       "1                          PLAYERUNKNOWN'S BATTLEGROUNDS   \n",
       "2                                             BATTLETECH   \n",
       "3                                                   DayZ   \n",
       "4                                             EVE Online   \n",
       "...                                                  ...   \n",
       "40828  Rocksmith® 2014 Edition – Remastered – Sabaton...   \n",
       "40829  Rocksmith® 2014 Edition – Remastered – Stone T...   \n",
       "40830  Fantasy Grounds - Quests of Doom 4: A Midnight...   \n",
       "40831                       Mega Man X5 Sound Collection   \n",
       "40832                                   Stories In Stone   \n",
       "\n",
       "                                            popular_tags  \n",
       "0      FPS,Gore,Action,Demons,Shooter,First-Person,Gr...  \n",
       "1      Survival,Shooter,Multiplayer,Battle Royale,PvP...  \n",
       "2      Mechs,Strategy,Turn-Based,Turn-Based Tactics,S...  \n",
       "3      Survival,Zombies,Open World,Multiplayer,PvP,Ma...  \n",
       "4      Space,Massively Multiplayer,Sci-fi,Sandbox,MMO...  \n",
       "...                                                  ...  \n",
       "40828                                  Casual,Simulation  \n",
       "40829                                  Casual,Simulation  \n",
       "40830  RPG,Indie,Strategy,Software,Turn-Based,Fantasy...  \n",
       "40831                                             Action  \n",
       "40832                                      RPG,Adventure  \n",
       "\n",
       "[37886 rows x 2 columns]"
      ]
     },
     "execution_count": 8,
     "metadata": {},
     "output_type": "execute_result"
    }
   ],
   "source": [
    "data"
   ]
  },
  {
   "cell_type": "code",
   "execution_count": 9,
   "metadata": {},
   "outputs": [
    {
     "data": {
      "text/html": [
       "<div>\n",
       "<style scoped>\n",
       "    .dataframe tbody tr th:only-of-type {\n",
       "        vertical-align: middle;\n",
       "    }\n",
       "\n",
       "    .dataframe tbody tr th {\n",
       "        vertical-align: top;\n",
       "    }\n",
       "\n",
       "    .dataframe thead th {\n",
       "        text-align: right;\n",
       "    }\n",
       "</style>\n",
       "<table border=\"1\" class=\"dataframe\">\n",
       "  <thead>\n",
       "    <tr style=\"text-align: right;\">\n",
       "      <th></th>\n",
       "      <th>name</th>\n",
       "      <th>popular_tags</th>\n",
       "    </tr>\n",
       "  </thead>\n",
       "  <tbody>\n",
       "    <tr>\n",
       "      <td>6206</td>\n",
       "      <td>Killing Time</td>\n",
       "      <td>Action,Gore,Violent,Classic,FPS,1990's,Horror</td>\n",
       "    </tr>\n",
       "    <tr>\n",
       "      <td>7567</td>\n",
       "      <td>RUSH</td>\n",
       "      <td>Puzzle,Indie,Casual,Singleplayer,Strategy,Abst...</td>\n",
       "    </tr>\n",
       "    <tr>\n",
       "      <td>14599</td>\n",
       "      <td>Black Rose</td>\n",
       "      <td>Action</td>\n",
       "    </tr>\n",
       "    <tr>\n",
       "      <td>14612</td>\n",
       "      <td>Bounce</td>\n",
       "      <td>Casual,Puzzle,Indie,VR</td>\n",
       "    </tr>\n",
       "    <tr>\n",
       "      <td>17442</td>\n",
       "      <td>Batman: Arkham City - Game of the Year Edition</td>\n",
       "      <td>Action,Batman,Open World,Stealth,Adventure,Thi...</td>\n",
       "    </tr>\n",
       "    <tr>\n",
       "      <td>17453</td>\n",
       "      <td>Rumpus</td>\n",
       "      <td>Action,Indie,Casual</td>\n",
       "    </tr>\n",
       "    <tr>\n",
       "      <td>18507</td>\n",
       "      <td>Angels of Death</td>\n",
       "      <td>Violent,Episodic,Anime</td>\n",
       "    </tr>\n",
       "    <tr>\n",
       "      <td>19755</td>\n",
       "      <td>Dodge</td>\n",
       "      <td>Indie,Casual,Arcade</td>\n",
       "    </tr>\n",
       "    <tr>\n",
       "      <td>19829</td>\n",
       "      <td>Warhammer Quest</td>\n",
       "      <td>Strategy,RPG</td>\n",
       "    </tr>\n",
       "    <tr>\n",
       "      <td>23064</td>\n",
       "      <td>The Mine</td>\n",
       "      <td>Free to Play,Indie,Horror</td>\n",
       "    </tr>\n",
       "    <tr>\n",
       "      <td>23823</td>\n",
       "      <td>Exodus</td>\n",
       "      <td>Early Access,Early Access,Action,Indie,Casual,...</td>\n",
       "    </tr>\n",
       "    <tr>\n",
       "      <td>23995</td>\n",
       "      <td>Ultimate Arena</td>\n",
       "      <td>Indie,Action,FPS,Arena Shooter,Multiplayer,Ear...</td>\n",
       "    </tr>\n",
       "    <tr>\n",
       "      <td>24538</td>\n",
       "      <td>Taxi</td>\n",
       "      <td>Casual</td>\n",
       "    </tr>\n",
       "    <tr>\n",
       "      <td>25055</td>\n",
       "      <td>Chaos Theory</td>\n",
       "      <td>Early Access,Adventure,Simulation,Early Access...</td>\n",
       "    </tr>\n",
       "    <tr>\n",
       "      <td>25300</td>\n",
       "      <td>Ashes</td>\n",
       "      <td>Action,Indie,Adventure,Survival</td>\n",
       "    </tr>\n",
       "    <tr>\n",
       "      <td>25455</td>\n",
       "      <td>Zombie Apocalypse</td>\n",
       "      <td>Action,Zombies,Multiplayer</td>\n",
       "    </tr>\n",
       "    <tr>\n",
       "      <td>25654</td>\n",
       "      <td>Alter Ego</td>\n",
       "      <td>RPG,Simulation,Casual,Adventure,Indie,Text-Based</td>\n",
       "    </tr>\n",
       "    <tr>\n",
       "      <td>26123</td>\n",
       "      <td>Castles</td>\n",
       "      <td>Strategy,Adventure</td>\n",
       "    </tr>\n",
       "    <tr>\n",
       "      <td>26241</td>\n",
       "      <td>Mars 2030</td>\n",
       "      <td>Simulation,Mars,Exploration,Space,VR</td>\n",
       "    </tr>\n",
       "    <tr>\n",
       "      <td>26909</td>\n",
       "      <td>Escape</td>\n",
       "      <td>Action,Indie,Adventure,Singleplayer,Horror,Gor...</td>\n",
       "    </tr>\n",
       "    <tr>\n",
       "      <td>28523</td>\n",
       "      <td>New York Bus Simulator</td>\n",
       "      <td>Simulation</td>\n",
       "    </tr>\n",
       "    <tr>\n",
       "      <td>28898</td>\n",
       "      <td>Solitaire</td>\n",
       "      <td>Casual,Card Game</td>\n",
       "    </tr>\n",
       "    <tr>\n",
       "      <td>29097</td>\n",
       "      <td>Escape Room</td>\n",
       "      <td>Early Access,Early Access,Adventure,Simulation,VR</td>\n",
       "    </tr>\n",
       "    <tr>\n",
       "      <td>29143</td>\n",
       "      <td>Hide and Seek</td>\n",
       "      <td>Free to Play,Indie,Horror,Multiplayer,Casual,F...</td>\n",
       "    </tr>\n",
       "    <tr>\n",
       "      <td>30678</td>\n",
       "      <td>City Builder</td>\n",
       "      <td>Casual,Strategy,City Builder</td>\n",
       "    </tr>\n",
       "    <tr>\n",
       "      <td>31079</td>\n",
       "      <td>Squares</td>\n",
       "      <td>Indie,Casual</td>\n",
       "    </tr>\n",
       "    <tr>\n",
       "      <td>31148</td>\n",
       "      <td>The Tower</td>\n",
       "      <td>Indie,Adventure,Action,Simulation,Horror,First...</td>\n",
       "    </tr>\n",
       "    <tr>\n",
       "      <td>32054</td>\n",
       "      <td>Space Maze</td>\n",
       "      <td>Casual,Indie,Adventure,Puzzle,Singleplayer</td>\n",
       "    </tr>\n",
       "    <tr>\n",
       "      <td>32531</td>\n",
       "      <td>Afterlife</td>\n",
       "      <td>Indie,VR,Free to Play,Interactive Fiction,360 ...</td>\n",
       "    </tr>\n",
       "    <tr>\n",
       "      <td>33027</td>\n",
       "      <td>Experience</td>\n",
       "      <td>RPG,RPGMaker</td>\n",
       "    </tr>\n",
       "    <tr>\n",
       "      <td>33366</td>\n",
       "      <td>Surge</td>\n",
       "      <td>Indie</td>\n",
       "    </tr>\n",
       "    <tr>\n",
       "      <td>33397</td>\n",
       "      <td>Bounty Hunter</td>\n",
       "      <td>Violent,Action,Top-Down Shooter,Zombies,Top-Do...</td>\n",
       "    </tr>\n",
       "    <tr>\n",
       "      <td>33770</td>\n",
       "      <td>Perfect</td>\n",
       "      <td>Casual,Indie</td>\n",
       "    </tr>\n",
       "    <tr>\n",
       "      <td>33796</td>\n",
       "      <td>Ramen</td>\n",
       "      <td>Indie,FPS,Action,Shooter,First-Person,3D,Carto...</td>\n",
       "    </tr>\n",
       "    <tr>\n",
       "      <td>34304</td>\n",
       "      <td>Flashback</td>\n",
       "      <td>Action,Adventure,Platformer,RPG,Remake,Cyberpu...</td>\n",
       "    </tr>\n",
       "    <tr>\n",
       "      <td>35762</td>\n",
       "      <td>Prisoner</td>\n",
       "      <td>Adventure,Indie,First-Person,Singleplayer,Horror</td>\n",
       "    </tr>\n",
       "    <tr>\n",
       "      <td>36720</td>\n",
       "      <td>Nightmare</td>\n",
       "      <td>Action,Indie</td>\n",
       "    </tr>\n",
       "    <tr>\n",
       "      <td>36747</td>\n",
       "      <td>Exodus</td>\n",
       "      <td>Early Access,RPG,Indie,Early Access,Action,Gor...</td>\n",
       "    </tr>\n",
       "    <tr>\n",
       "      <td>37201</td>\n",
       "      <td>Luna</td>\n",
       "      <td>Action,Indie,Puzzle-Platformer</td>\n",
       "    </tr>\n",
       "    <tr>\n",
       "      <td>38097</td>\n",
       "      <td>Exception</td>\n",
       "      <td>Action,Platformer,Side Scroller,Great Soundtra...</td>\n",
       "    </tr>\n",
       "    <tr>\n",
       "      <td>39477</td>\n",
       "      <td>Solstice</td>\n",
       "      <td>Early Access,Early Access,Strategy,Adventure,I...</td>\n",
       "    </tr>\n",
       "    <tr>\n",
       "      <td>39625</td>\n",
       "      <td>The Deer</td>\n",
       "      <td>Gore,Adventure,Violent,Indie,Horror,Hunting,Fi...</td>\n",
       "    </tr>\n",
       "    <tr>\n",
       "      <td>39713</td>\n",
       "      <td>Dishonored - Void Walker Arsenal</td>\n",
       "      <td>Action,Adventure</td>\n",
       "    </tr>\n",
       "    <tr>\n",
       "      <td>39763</td>\n",
       "      <td>SCARF</td>\n",
       "      <td>Early Access,Early Access,RPG,Strategy</td>\n",
       "    </tr>\n",
       "    <tr>\n",
       "      <td>40382</td>\n",
       "      <td>Spark</td>\n",
       "      <td>Early Access,Free to Play,Strategy,Indie,Early...</td>\n",
       "    </tr>\n",
       "    <tr>\n",
       "      <td>40784</td>\n",
       "      <td>Wrecking Towers</td>\n",
       "      <td>Action,Casual</td>\n",
       "    </tr>\n",
       "  </tbody>\n",
       "</table>\n",
       "</div>"
      ],
      "text/plain": [
       "                                                 name  \\\n",
       "6206                                     Killing Time   \n",
       "7567                                             RUSH   \n",
       "14599                                      Black Rose   \n",
       "14612                                          Bounce   \n",
       "17442  Batman: Arkham City - Game of the Year Edition   \n",
       "17453                                          Rumpus   \n",
       "18507                                 Angels of Death   \n",
       "19755                                           Dodge   \n",
       "19829                                 Warhammer Quest   \n",
       "23064                                        The Mine   \n",
       "23823                                          Exodus   \n",
       "23995                                  Ultimate Arena   \n",
       "24538                                            Taxi   \n",
       "25055                                    Chaos Theory   \n",
       "25300                                           Ashes   \n",
       "25455                               Zombie Apocalypse   \n",
       "25654                                       Alter Ego   \n",
       "26123                                         Castles   \n",
       "26241                                       Mars 2030   \n",
       "26909                                          Escape   \n",
       "28523                          New York Bus Simulator   \n",
       "28898                                       Solitaire   \n",
       "29097                                     Escape Room   \n",
       "29143                                   Hide and Seek   \n",
       "30678                                    City Builder   \n",
       "31079                                         Squares   \n",
       "31148                                       The Tower   \n",
       "32054                                      Space Maze   \n",
       "32531                                       Afterlife   \n",
       "33027                                      Experience   \n",
       "33366                                           Surge   \n",
       "33397                                   Bounty Hunter   \n",
       "33770                                         Perfect   \n",
       "33796                                           Ramen   \n",
       "34304                                       Flashback   \n",
       "35762                                        Prisoner   \n",
       "36720                                       Nightmare   \n",
       "36747                                          Exodus   \n",
       "37201                                            Luna   \n",
       "38097                                       Exception   \n",
       "39477                                        Solstice   \n",
       "39625                                        The Deer   \n",
       "39713                Dishonored - Void Walker Arsenal   \n",
       "39763                                           SCARF   \n",
       "40382                                           Spark   \n",
       "40784                                 Wrecking Towers   \n",
       "\n",
       "                                            popular_tags  \n",
       "6206       Action,Gore,Violent,Classic,FPS,1990's,Horror  \n",
       "7567   Puzzle,Indie,Casual,Singleplayer,Strategy,Abst...  \n",
       "14599                                             Action  \n",
       "14612                             Casual,Puzzle,Indie,VR  \n",
       "17442  Action,Batman,Open World,Stealth,Adventure,Thi...  \n",
       "17453                                Action,Indie,Casual  \n",
       "18507                             Violent,Episodic,Anime  \n",
       "19755                                Indie,Casual,Arcade  \n",
       "19829                                       Strategy,RPG  \n",
       "23064                          Free to Play,Indie,Horror  \n",
       "23823  Early Access,Early Access,Action,Indie,Casual,...  \n",
       "23995  Indie,Action,FPS,Arena Shooter,Multiplayer,Ear...  \n",
       "24538                                             Casual  \n",
       "25055  Early Access,Adventure,Simulation,Early Access...  \n",
       "25300                    Action,Indie,Adventure,Survival  \n",
       "25455                         Action,Zombies,Multiplayer  \n",
       "25654   RPG,Simulation,Casual,Adventure,Indie,Text-Based  \n",
       "26123                                 Strategy,Adventure  \n",
       "26241               Simulation,Mars,Exploration,Space,VR  \n",
       "26909  Action,Indie,Adventure,Singleplayer,Horror,Gor...  \n",
       "28523                                         Simulation  \n",
       "28898                                   Casual,Card Game  \n",
       "29097  Early Access,Early Access,Adventure,Simulation,VR  \n",
       "29143  Free to Play,Indie,Horror,Multiplayer,Casual,F...  \n",
       "30678                       Casual,Strategy,City Builder  \n",
       "31079                                       Indie,Casual  \n",
       "31148  Indie,Adventure,Action,Simulation,Horror,First...  \n",
       "32054         Casual,Indie,Adventure,Puzzle,Singleplayer  \n",
       "32531  Indie,VR,Free to Play,Interactive Fiction,360 ...  \n",
       "33027                                       RPG,RPGMaker  \n",
       "33366                                              Indie  \n",
       "33397  Violent,Action,Top-Down Shooter,Zombies,Top-Do...  \n",
       "33770                                       Casual,Indie  \n",
       "33796  Indie,FPS,Action,Shooter,First-Person,3D,Carto...  \n",
       "34304  Action,Adventure,Platformer,RPG,Remake,Cyberpu...  \n",
       "35762   Adventure,Indie,First-Person,Singleplayer,Horror  \n",
       "36720                                       Action,Indie  \n",
       "36747  Early Access,RPG,Indie,Early Access,Action,Gor...  \n",
       "37201                     Action,Indie,Puzzle-Platformer  \n",
       "38097  Action,Platformer,Side Scroller,Great Soundtra...  \n",
       "39477  Early Access,Early Access,Strategy,Adventure,I...  \n",
       "39625  Gore,Adventure,Violent,Indie,Horror,Hunting,Fi...  \n",
       "39713                                   Action,Adventure  \n",
       "39763             Early Access,Early Access,RPG,Strategy  \n",
       "40382  Early Access,Free to Play,Strategy,Indie,Early...  \n",
       "40784                                      Action,Casual  "
      ]
     },
     "execution_count": 9,
     "metadata": {},
     "output_type": "execute_result"
    }
   ],
   "source": [
    "data.iloc[np.where(data['name'].duplicated() == True)]"
   ]
  },
  {
   "cell_type": "code",
   "execution_count": 10,
   "metadata": {},
   "outputs": [
    {
     "data": {
      "text/html": [
       "<div>\n",
       "<style scoped>\n",
       "    .dataframe tbody tr th:only-of-type {\n",
       "        vertical-align: middle;\n",
       "    }\n",
       "\n",
       "    .dataframe tbody tr th {\n",
       "        vertical-align: top;\n",
       "    }\n",
       "\n",
       "    .dataframe thead th {\n",
       "        text-align: right;\n",
       "    }\n",
       "</style>\n",
       "<table border=\"1\" class=\"dataframe\">\n",
       "  <thead>\n",
       "    <tr style=\"text-align: right;\">\n",
       "      <th></th>\n",
       "      <th>name</th>\n",
       "      <th>popular_tags</th>\n",
       "    </tr>\n",
       "  </thead>\n",
       "  <tbody>\n",
       "    <tr>\n",
       "      <td>615</td>\n",
       "      <td>RUSH</td>\n",
       "      <td>Action,Sports,Racing,Simulation,VR</td>\n",
       "    </tr>\n",
       "    <tr>\n",
       "      <td>7567</td>\n",
       "      <td>RUSH</td>\n",
       "      <td>Puzzle,Indie,Casual,Singleplayer,Strategy,Abst...</td>\n",
       "    </tr>\n",
       "  </tbody>\n",
       "</table>\n",
       "</div>"
      ],
      "text/plain": [
       "      name                                       popular_tags\n",
       "615   RUSH                 Action,Sports,Racing,Simulation,VR\n",
       "7567  RUSH  Puzzle,Indie,Casual,Singleplayer,Strategy,Abst..."
      ]
     },
     "execution_count": 10,
     "metadata": {},
     "output_type": "execute_result"
    }
   ],
   "source": [
    "data[data.name == 'RUSH']"
   ]
  },
  {
   "cell_type": "code",
   "execution_count": 11,
   "metadata": {},
   "outputs": [
    {
     "data": {
      "text/plain": [
       "(37840, 2)"
      ]
     },
     "execution_count": 11,
     "metadata": {},
     "output_type": "execute_result"
    }
   ],
   "source": [
    "data = data.drop(data[data['name'].duplicated() == True].index)\n",
    "data.shape"
   ]
  },
  {
   "cell_type": "code",
   "execution_count": 12,
   "metadata": {},
   "outputs": [
    {
     "data": {
      "text/html": [
       "<div>\n",
       "<style scoped>\n",
       "    .dataframe tbody tr th:only-of-type {\n",
       "        vertical-align: middle;\n",
       "    }\n",
       "\n",
       "    .dataframe tbody tr th {\n",
       "        vertical-align: top;\n",
       "    }\n",
       "\n",
       "    .dataframe thead th {\n",
       "        text-align: right;\n",
       "    }\n",
       "</style>\n",
       "<table border=\"1\" class=\"dataframe\">\n",
       "  <thead>\n",
       "    <tr style=\"text-align: right;\">\n",
       "      <th></th>\n",
       "      <th>name</th>\n",
       "      <th>popular_tags</th>\n",
       "    </tr>\n",
       "  </thead>\n",
       "  <tbody>\n",
       "    <tr>\n",
       "      <td>0</td>\n",
       "      <td>DOOM</td>\n",
       "      <td>FPS,Gore,Action,Demons,Shooter,First-Person,Gr...</td>\n",
       "    </tr>\n",
       "    <tr>\n",
       "      <td>1</td>\n",
       "      <td>PLAYERUNKNOWN'S BATTLEGROUNDS</td>\n",
       "      <td>Survival,Shooter,Multiplayer,Battle Royale,PvP...</td>\n",
       "    </tr>\n",
       "    <tr>\n",
       "      <td>2</td>\n",
       "      <td>BATTLETECH</td>\n",
       "      <td>Mechs,Strategy,Turn-Based,Turn-Based Tactics,S...</td>\n",
       "    </tr>\n",
       "    <tr>\n",
       "      <td>3</td>\n",
       "      <td>DayZ</td>\n",
       "      <td>Survival,Zombies,Open World,Multiplayer,PvP,Ma...</td>\n",
       "    </tr>\n",
       "    <tr>\n",
       "      <td>4</td>\n",
       "      <td>EVE Online</td>\n",
       "      <td>Space,Massively Multiplayer,Sci-fi,Sandbox,MMO...</td>\n",
       "    </tr>\n",
       "  </tbody>\n",
       "</table>\n",
       "</div>"
      ],
      "text/plain": [
       "                            name  \\\n",
       "0                           DOOM   \n",
       "1  PLAYERUNKNOWN'S BATTLEGROUNDS   \n",
       "2                     BATTLETECH   \n",
       "3                           DayZ   \n",
       "4                     EVE Online   \n",
       "\n",
       "                                        popular_tags  \n",
       "0  FPS,Gore,Action,Demons,Shooter,First-Person,Gr...  \n",
       "1  Survival,Shooter,Multiplayer,Battle Royale,PvP...  \n",
       "2  Mechs,Strategy,Turn-Based,Turn-Based Tactics,S...  \n",
       "3  Survival,Zombies,Open World,Multiplayer,PvP,Ma...  \n",
       "4  Space,Massively Multiplayer,Sci-fi,Sandbox,MMO...  "
      ]
     },
     "execution_count": 12,
     "metadata": {},
     "output_type": "execute_result"
    }
   ],
   "source": [
    "data.head()"
   ]
  },
  {
   "cell_type": "code",
   "execution_count": 13,
   "metadata": {},
   "outputs": [],
   "source": [
    "import collections"
   ]
  },
  {
   "cell_type": "code",
   "execution_count": 14,
   "metadata": {},
   "outputs": [
    {
     "name": "stdout",
     "output_type": "stream",
     "text": [
      "Tags : 376\n",
      "['Indie', 'Action', 'Adventure', 'Casual', 'Simulation', 'Strategy', 'RPG', 'Singleplayer', 'Early Access', 'Great Soundtrack', 'Atmospheric', '2D', 'Multiplayer', 'Puzzle', 'Free to Play', 'VR', 'Violent', 'Story Rich', 'Difficult', 'Fantasy', 'Gore', 'Horror', 'Anime', 'Sports', 'Pixel Graphics', 'Funny', 'Sci-fi', 'Platformer', 'Shooter', 'First-Person', 'Open World', 'Female Protagonist', 'Co-op', 'Retro', 'Racing', 'Turn-Based', 'Massively Multiplayer', 'Nudity', 'Arcade', 'FPS', 'Survival', 'Family Friendly', 'Sandbox', 'Sexual Content', 'Visual Novel', 'Comedy', 'Cute', 'Classic', 'Exploration', 'Point & Click', 'Online Co-Op', 'Replay Value', 'Masterpiece', 'Space', 'Relaxing', 'Psychological Horror', 'Third Person', 'Colorful', 'Design & Illustration', 'Local Multiplayer', 'Utilities', 'Tactical', 'Mystery', 'Fast-Paced', 'Rogue-like', 'Controller', 'Physics', 'Management', 'RPGMaker', 'Zombies', 'Local Co-Op', 'Building', \"Shoot 'Em Up\", 'Short', 'Side Scroller', 'Dark', 'Software', 'Turn-Based Strategy', 'Memes', 'Hidden Object', 'Realistic', 'RTS', 'Survival Horror', 'Historical', 'Party-Based RPG', 'Puzzle-Platformer', 'Choices Matter', 'War', 'Action RPG', 'Top-Down', 'Music', 'Education', 'Crafting', 'Rogue-lite', 'Bullet Hell', 'Minimalist', 'JRPG', 'Web Publishing', 'Stealth', 'Hack and Slash', 'Tower Defense', 'Competitive', 'Walking Simulator', 'Procedural Generation', 'Action-Adventure', 'Mature', 'Dungeon Crawler', 'PvP', 'Fighting', 'Turn-Based Combat', '4 Player Local', 'Post-apocalyptic', 'Isometric', 'Card Game', 'Old School', 'Character Customization', 'Dark Fantasy', 'Medieval', 'Moddable', 'Third-Person Shooter', 'Base Building', 'Top-Down Shooter', 'Turn-Based Tactics', 'Cyberpunk', 'Military', 'Resource Management', 'World War II', 'Romance', 'Animation & Modeling', 'Economy', 'Stylized', 'Dating Sim', 'Multiple Endings', 'Surreal', 'Cartoony', 'Metroidvania', 'Magic', 'Driving', 'Robots', 'Futuristic', 'City Builder', '3D Platformer', 'Choose Your Own Adventure', 'Twin Stick Shooter', 'Board Game', 'Text-Based', 'Hand-drawn', \"Beat 'em up\", 'Detective', 'Dark Humor', 'Level Editor', 'Flight', 'Aliens', 'Perma Death', 'Experimental', 'Team-Based', 'Interactive Fiction', 'Grand Strategy', 'Soundtrack', 'Addictive', 'Match 3', 'Abstract', 'MMORPG', 'Parkour', \"1990's\", 'Steampunk', 'Destruction', 'Clicker', 'Beautiful', 'Game Development', 'Arena Shooter', 'Blood', 'Real-Time', 'Mouse only', 'Rhythm', 'Real-Time with Pause', 'Kickstarter', 'Psychological', 'Drama', 'Video Production', '2D Fighter', 'Loot', '4X', 'Cult Classic', 'Logic', 'Cartoon', 'Trains', 'Lovecraftian', 'Remake', 'Space Sim', 'Crime', 'Pirates', 'Audio Production', 'Score Attack', '2.5D', '1980s', 'Mechs', '3D', 'Illuminati', 'Split Screen', 'Tactical RPG', 'Alternate History', 'Wargame', 'GameMaker', 'Real Time Tactics', 'Dystopian', 'Touch-Friendly', 'Otome', 'Tanks', 'Software Training', 'Demons', 'Science', 'Strategy RPG', 'Hex Grid', 'Time Management', 'Episodic', 'Naval', 'Voxel', 'Narration', 'PvE', 'CRPG', 'Dinosaurs', 'Thriller', 'Movie', 'Dark Comedy', 'Dungeons & Dragons', 'Noir', 'Political', 'Ninja', 'Psychedelic', 'Runner', 'Battle Royale', 'Swordplay', 'Dragons', 'Western', 'Hacking', 'Politics', 'MOBA', 'Tutorial', 'TrackIR', 'Superhero', 'Mod', 'Trading Card Game', 'FMV', 'Linear', 'e-sports', 'Comic Book', 'God Game', 'Grid-Based Movement', 'Cold War', 'Supernatural', 'Underwater', 'Cinematic', 'Agriculture', 'Time Travel', 'Souls-like', 'Character Action Game', 'Mythology', 'Lore-Rich', 'Photo Editing', 'Gothic', 'Games Workshop', 'Cats', 'Inventory Management', 'Parody', 'Football', 'Villain Protagonist', 'Modern', 'Time Attack', 'Epic', 'Documentary', 'Satire', 'Assassin', '3D Vision', 'Vampire', 'Silent Protagonist', 'Bullet Time', 'Trading', 'Hunting', 'Crowdfunded', 'Soccer', 'Time Manipulation', 'Emotional', 'Nature', 'Philisophical', 'Co-op Campaign', 'Gaming', 'World War I', 'America', 'Capitalism', 'Spectacle fighter', 'Warhammer 40K', 'Programming', 'Rome', 'Heist', 'NSFW', 'Nonlinear', 'Experience', 'Fishing', 'Dog', 'Class-Based', 'Martial Arts', 'Word Game', 'Sailing', 'Quick-Time Events', 'Music-Based Procedural Generation', 'Investigation', 'LEGO', 'Chess', 'Asynchronous Multiplayer', 'Offroad', 'Conspiracy', '6DOF', 'Faith', 'Star Wars', 'Typing', 'Minigames', 'Sniper', 'Mars', 'Pinball', 'Gun Customization', 'Diplomacy', 'Based On A Novel', 'Mining', '360 Video', 'Mystery Dungeon', 'Horses', 'Golf', 'Artificial Intelligence', 'Dynamic Narration', 'On-Rails Shooter', 'Bikes', 'Werewolves', 'Sequel', 'Batman', 'Basketball', 'Conversation', 'Immersive Sim', 'Submarine', 'Solitaire', 'Unforgiving', 'Sokoban', 'Underground', 'Mini Golf', 'Intentionally Awkward Controls', 'Gambling', 'Benchmark', 'Motorbike', 'Transhumanism', 'Tennis', 'Baseball', 'Hockey', 'Wrestling', 'Lara Croft', 'Lemmings', 'Motocross', 'Pool', 'Bowling', 'Steam Machine', 'Automation', 'Skateboarding', 'Voice Control', 'Transportation', 'Cycling', 'Hardware', 'Foreign', 'Spelling', 'Skating', 'Jet', 'Asymmetric VR', 'Snow', 'ATV', 'BMX', 'Snowboarding', 'Feature Film', 'Skiing']\n"
     ]
    }
   ],
   "source": [
    "tags = {}\n",
    "for i in data.popular_tags:\n",
    "    for t in i.split(','):\n",
    "        if(tags.get(t)):\n",
    "            c = tags.get(t) + 1\n",
    "            tags.update({t: c})\n",
    "        else:\n",
    "            tags.update({t: 1})\n",
    "\n",
    "# tags = sorted(tags)\n",
    "# Ordenado por numero\n",
    "tags = sorted(tags, key=tags.get, reverse=True)\n",
    "print(\"Tags :\", len(tags))\n",
    "print(tags)"
   ]
  },
  {
   "cell_type": "code",
   "execution_count": 15,
   "metadata": {},
   "outputs": [
    {
     "name": "stdout",
     "output_type": "stream",
     "text": [
      "Juegos:  37840\n"
     ]
    }
   ],
   "source": [
    "games = []\n",
    "for g in data.name:\n",
    "    games.append(g)\n",
    "\n",
    "print(\"Juegos: \", len(games))"
   ]
  },
  {
   "cell_type": "code",
   "execution_count": 16,
   "metadata": {},
   "outputs": [
    {
     "data": {
      "text/plain": [
       "(array([0], dtype=int64),)"
      ]
     },
     "execution_count": 16,
     "metadata": {},
     "output_type": "execute_result"
    }
   ],
   "source": [
    "np.where(np.array(tags) == 'Indie')"
   ]
  },
  {
   "cell_type": "code",
   "execution_count": 17,
   "metadata": {},
   "outputs": [],
   "source": [
    "G = nx.Graph()\n",
    "G.add_nodes_from(games)"
   ]
  },
  {
   "cell_type": "code",
   "execution_count": 18,
   "metadata": {},
   "outputs": [
    {
     "data": {
      "text/plain": [
       "37840"
      ]
     },
     "execution_count": 18,
     "metadata": {},
     "output_type": "execute_result"
    }
   ],
   "source": [
    "len(G.nodes())"
   ]
  },
  {
   "cell_type": "code",
   "execution_count": 19,
   "metadata": {},
   "outputs": [],
   "source": [
    "def tags_in_common(a, b):\n",
    "    n = 0\n",
    "    for i in a:\n",
    "        for j in b:\n",
    "            if i == j:\n",
    "                n = n+1\n",
    "    return n"
   ]
  },
  {
   "cell_type": "code",
   "execution_count": 20,
   "metadata": {},
   "outputs": [],
   "source": [
    "# data_list = data.values.tolist()\n",
    "\n",
    "# i = 0\n",
    "# while i < len(data_list):\n",
    "#     print(i)\n",
    "\n",
    "#     t1 = data_list[i][1].split(',') # Lista de tags juego 1\n",
    "    \n",
    "#     j = i + 1 \n",
    "#     while j < len(data_list): # Recorrer resto de juegos\n",
    "#         t2 = data_list[j][1].split(',') # Lista de tags juego 2\n",
    "        \n",
    "#         n = tags_in_common(t1, t2)\n",
    "#         for m in range(n): # Añadir num de aristas correspondientes\n",
    "#             G.add_edge(data_list[i][0], data_list[j][0])\n",
    "            \n",
    "\n",
    "    #         j += 1\n",
    "    \n",
    "#     i += 1\n"
   ]
  },
  {
   "cell_type": "code",
   "execution_count": 21,
   "metadata": {},
   "outputs": [],
   "source": [
    "### Diccionario de todos los tag con sus correspondientes juegos\n",
    "data_list = data.values.tolist()\n",
    "tag_dict = {}\n",
    "for t in tags:\n",
    "    l = []\n",
    "    for d in data_list:\n",
    "        if d[1].split(',').count(t) > 0:\n",
    "            l.append(d[0])\n",
    "    tag_dict.update({t: l})"
   ]
  },
  {
   "cell_type": "code",
   "execution_count": 25,
   "metadata": {},
   "outputs": [
    {
     "name": "stdout",
     "output_type": "stream",
     "text": [
      "375\r"
     ]
    }
   ],
   "source": [
    "G_tags = nx.Graph()\n",
    "G_tags.add_nodes_from(tags)\n",
    "\n",
    "tag_list = list(tag_dict.items())\n",
    "\n",
    "i = 0\n",
    "while i < len(tag_dict):\n",
    "    print(i, end='\\r')\n",
    "    \n",
    "    t1 = tag_list[i][1] # Lista de tags juego 1\n",
    "    \n",
    "    j = i + 1\n",
    "    while j < len(tag_dict):\n",
    "        t2 = tag_list[j][1] # Lista de tags juego 2\n",
    "        \n",
    "        n = tags_in_common(t1, t2)\n",
    "        if n > 0:\n",
    "            G_tags.add_edge(tag_list[i][0], tag_list[j][0], weight=n)\n",
    "        \n",
    "        j += 1\n",
    "    i += 1"
   ]
  },
  {
   "cell_type": "code",
   "execution_count": 26,
   "metadata": {},
   "outputs": [
    {
     "data": {
      "text/plain": [
       "376"
      ]
     },
     "execution_count": 26,
     "metadata": {},
     "output_type": "execute_result"
    }
   ],
   "source": [
    "nx.number_of_nodes(G_tags)"
   ]
  },
  {
   "cell_type": "code",
   "execution_count": 27,
   "metadata": {},
   "outputs": [
    {
     "data": {
      "text/plain": [
       "36576"
      ]
     },
     "execution_count": 27,
     "metadata": {},
     "output_type": "execute_result"
    }
   ],
   "source": [
    "nx.number_of_edges(G_tags)"
   ]
  },
  {
   "cell_type": "code",
   "execution_count": 28,
   "metadata": {},
   "outputs": [],
   "source": [
    "nx.write_gexf(G_tags, './TagNetwork3.gexf')"
   ]
  },
  {
   "cell_type": "code",
   "execution_count": 23,
   "metadata": {},
   "outputs": [],
   "source": [
    "# G = nx.Graph()\n",
    "# G.add_nodes_from(games)\n",
    "\n",
    "# for t, g in tag_dict.items():\n",
    "#     i = 0\n",
    "#     while i < len(g):\n",
    "#         j = i + 1\n",
    "#         while j < len(g):\n",
    "#             G.add_edge(g[i], g[j])\n",
    "#             j += 1\n",
    "#         i += 1"
   ]
  },
  {
   "cell_type": "code",
   "execution_count": 74,
   "metadata": {},
   "outputs": [
    {
     "name": "stdout",
     "output_type": "stream",
     "text": [
      "63\r"
     ]
    },
    {
     "ename": "KeyboardInterrupt",
     "evalue": "",
     "output_type": "error",
     "traceback": [
      "\u001b[1;31m---------------------------------------------------------------------------\u001b[0m",
      "\u001b[1;31mKeyboardInterrupt\u001b[0m                         Traceback (most recent call last)",
      "\u001b[1;32m<ipython-input-74-30b8064dd58c>\u001b[0m in \u001b[0;36m<module>\u001b[1;34m\u001b[0m\n\u001b[0;32m      8\u001b[0m         \u001b[1;32mwhile\u001b[0m \u001b[0mj\u001b[0m \u001b[1;33m<\u001b[0m \u001b[0mlen\u001b[0m\u001b[1;33m(\u001b[0m\u001b[0mg\u001b[0m\u001b[1;33m)\u001b[0m\u001b[1;33m:\u001b[0m\u001b[1;33m\u001b[0m\u001b[1;33m\u001b[0m\u001b[0m\n\u001b[0;32m      9\u001b[0m             \u001b[0mdf2\u001b[0m \u001b[1;33m=\u001b[0m \u001b[0mpd\u001b[0m\u001b[1;33m.\u001b[0m\u001b[0mDataFrame\u001b[0m\u001b[1;33m(\u001b[0m\u001b[1;33m[\u001b[0m\u001b[1;33m[\u001b[0m\u001b[0mg\u001b[0m\u001b[1;33m[\u001b[0m\u001b[0mi\u001b[0m\u001b[1;33m]\u001b[0m\u001b[1;33m,\u001b[0m \u001b[0mg\u001b[0m\u001b[1;33m[\u001b[0m\u001b[0mj\u001b[0m\u001b[1;33m]\u001b[0m\u001b[1;33m]\u001b[0m\u001b[1;33m]\u001b[0m\u001b[1;33m,\u001b[0m \u001b[0mcolumns\u001b[0m\u001b[1;33m=\u001b[0m\u001b[1;33m[\u001b[0m\u001b[1;34m'source'\u001b[0m\u001b[1;33m,\u001b[0m \u001b[1;34m'target'\u001b[0m\u001b[1;33m]\u001b[0m\u001b[1;33m)\u001b[0m\u001b[1;33m\u001b[0m\u001b[1;33m\u001b[0m\u001b[0m\n\u001b[1;32m---> 10\u001b[1;33m             \u001b[0mdf\u001b[0m \u001b[1;33m=\u001b[0m \u001b[0mdf\u001b[0m\u001b[1;33m.\u001b[0m\u001b[0mappend\u001b[0m\u001b[1;33m(\u001b[0m\u001b[0mdf2\u001b[0m\u001b[1;33m,\u001b[0m \u001b[0mignore_index\u001b[0m\u001b[1;33m=\u001b[0m\u001b[1;32mTrue\u001b[0m\u001b[1;33m)\u001b[0m\u001b[1;33m\u001b[0m\u001b[1;33m\u001b[0m\u001b[0m\n\u001b[0m\u001b[0;32m     11\u001b[0m             \u001b[0mj\u001b[0m \u001b[1;33m+=\u001b[0m \u001b[1;36m1\u001b[0m\u001b[1;33m\u001b[0m\u001b[1;33m\u001b[0m\u001b[0m\n\u001b[0;32m     12\u001b[0m         \u001b[0mi\u001b[0m \u001b[1;33m+=\u001b[0m \u001b[1;36m1\u001b[0m\u001b[1;33m\u001b[0m\u001b[1;33m\u001b[0m\u001b[0m\n",
      "\u001b[1;32m~\\Anaconda3\\lib\\site-packages\\pandas\\core\\frame.py\u001b[0m in \u001b[0;36mappend\u001b[1;34m(self, other, ignore_index, verify_integrity, sort)\u001b[0m\n\u001b[0;32m   7121\u001b[0m             \u001b[0mignore_index\u001b[0m\u001b[1;33m=\u001b[0m\u001b[0mignore_index\u001b[0m\u001b[1;33m,\u001b[0m\u001b[1;33m\u001b[0m\u001b[1;33m\u001b[0m\u001b[0m\n\u001b[0;32m   7122\u001b[0m             \u001b[0mverify_integrity\u001b[0m\u001b[1;33m=\u001b[0m\u001b[0mverify_integrity\u001b[0m\u001b[1;33m,\u001b[0m\u001b[1;33m\u001b[0m\u001b[1;33m\u001b[0m\u001b[0m\n\u001b[1;32m-> 7123\u001b[1;33m             \u001b[0msort\u001b[0m\u001b[1;33m=\u001b[0m\u001b[0msort\u001b[0m\u001b[1;33m,\u001b[0m\u001b[1;33m\u001b[0m\u001b[1;33m\u001b[0m\u001b[0m\n\u001b[0m\u001b[0;32m   7124\u001b[0m         )\n\u001b[0;32m   7125\u001b[0m \u001b[1;33m\u001b[0m\u001b[0m\n",
      "\u001b[1;32m~\\Anaconda3\\lib\\site-packages\\pandas\\core\\reshape\\concat.py\u001b[0m in \u001b[0;36mconcat\u001b[1;34m(objs, axis, join, join_axes, ignore_index, keys, levels, names, verify_integrity, sort, copy)\u001b[0m\n\u001b[0;32m    256\u001b[0m     )\n\u001b[0;32m    257\u001b[0m \u001b[1;33m\u001b[0m\u001b[0m\n\u001b[1;32m--> 258\u001b[1;33m     \u001b[1;32mreturn\u001b[0m \u001b[0mop\u001b[0m\u001b[1;33m.\u001b[0m\u001b[0mget_result\u001b[0m\u001b[1;33m(\u001b[0m\u001b[1;33m)\u001b[0m\u001b[1;33m\u001b[0m\u001b[1;33m\u001b[0m\u001b[0m\n\u001b[0m\u001b[0;32m    259\u001b[0m \u001b[1;33m\u001b[0m\u001b[0m\n\u001b[0;32m    260\u001b[0m \u001b[1;33m\u001b[0m\u001b[0m\n",
      "\u001b[1;32m~\\Anaconda3\\lib\\site-packages\\pandas\\core\\reshape\\concat.py\u001b[0m in \u001b[0;36mget_result\u001b[1;34m(self)\u001b[0m\n\u001b[0;32m    471\u001b[0m \u001b[1;33m\u001b[0m\u001b[0m\n\u001b[0;32m    472\u001b[0m             new_data = concatenate_block_managers(\n\u001b[1;32m--> 473\u001b[1;33m                 \u001b[0mmgrs_indexers\u001b[0m\u001b[1;33m,\u001b[0m \u001b[0mself\u001b[0m\u001b[1;33m.\u001b[0m\u001b[0mnew_axes\u001b[0m\u001b[1;33m,\u001b[0m \u001b[0mconcat_axis\u001b[0m\u001b[1;33m=\u001b[0m\u001b[0mself\u001b[0m\u001b[1;33m.\u001b[0m\u001b[0maxis\u001b[0m\u001b[1;33m,\u001b[0m \u001b[0mcopy\u001b[0m\u001b[1;33m=\u001b[0m\u001b[0mself\u001b[0m\u001b[1;33m.\u001b[0m\u001b[0mcopy\u001b[0m\u001b[1;33m\u001b[0m\u001b[1;33m\u001b[0m\u001b[0m\n\u001b[0m\u001b[0;32m    474\u001b[0m             )\n\u001b[0;32m    475\u001b[0m             \u001b[1;32mif\u001b[0m \u001b[1;32mnot\u001b[0m \u001b[0mself\u001b[0m\u001b[1;33m.\u001b[0m\u001b[0mcopy\u001b[0m\u001b[1;33m:\u001b[0m\u001b[1;33m\u001b[0m\u001b[1;33m\u001b[0m\u001b[0m\n",
      "\u001b[1;32m~\\Anaconda3\\lib\\site-packages\\pandas\\core\\internals\\managers.py\u001b[0m in \u001b[0;36mconcatenate_block_managers\u001b[1;34m(mgrs_indexers, axes, concat_axis, copy)\u001b[0m\n\u001b[0;32m   2048\u001b[0m         \u001b[1;32melif\u001b[0m \u001b[0mis_uniform_join_units\u001b[0m\u001b[1;33m(\u001b[0m\u001b[0mjoin_units\u001b[0m\u001b[1;33m)\u001b[0m\u001b[1;33m:\u001b[0m\u001b[1;33m\u001b[0m\u001b[1;33m\u001b[0m\u001b[0m\n\u001b[0;32m   2049\u001b[0m             b = join_units[0].block.concat_same_type(\n\u001b[1;32m-> 2050\u001b[1;33m                 \u001b[1;33m[\u001b[0m\u001b[0mju\u001b[0m\u001b[1;33m.\u001b[0m\u001b[0mblock\u001b[0m \u001b[1;32mfor\u001b[0m \u001b[0mju\u001b[0m \u001b[1;32min\u001b[0m \u001b[0mjoin_units\u001b[0m\u001b[1;33m]\u001b[0m\u001b[1;33m,\u001b[0m \u001b[0mplacement\u001b[0m\u001b[1;33m=\u001b[0m\u001b[0mplacement\u001b[0m\u001b[1;33m\u001b[0m\u001b[1;33m\u001b[0m\u001b[0m\n\u001b[0m\u001b[0;32m   2051\u001b[0m             )\n\u001b[0;32m   2052\u001b[0m         \u001b[1;32melse\u001b[0m\u001b[1;33m:\u001b[0m\u001b[1;33m\u001b[0m\u001b[1;33m\u001b[0m\u001b[0m\n",
      "\u001b[1;32m~\\Anaconda3\\lib\\site-packages\\pandas\\core\\internals\\blocks.py\u001b[0m in \u001b[0;36mconcat_same_type\u001b[1;34m(self, to_concat, placement)\u001b[0m\n\u001b[0;32m    363\u001b[0m             \u001b[1;33m[\u001b[0m\u001b[0mblk\u001b[0m\u001b[1;33m.\u001b[0m\u001b[0mvalues\u001b[0m \u001b[1;32mfor\u001b[0m \u001b[0mblk\u001b[0m \u001b[1;32min\u001b[0m \u001b[0mto_concat\u001b[0m\u001b[1;33m]\u001b[0m\u001b[1;33m,\u001b[0m \u001b[0maxis\u001b[0m\u001b[1;33m=\u001b[0m\u001b[0mself\u001b[0m\u001b[1;33m.\u001b[0m\u001b[0mndim\u001b[0m \u001b[1;33m-\u001b[0m \u001b[1;36m1\u001b[0m\u001b[1;33m\u001b[0m\u001b[1;33m\u001b[0m\u001b[0m\n\u001b[0;32m    364\u001b[0m         )\n\u001b[1;32m--> 365\u001b[1;33m         return self.make_block_same_class(\n\u001b[0m\u001b[0;32m    366\u001b[0m             \u001b[0mvalues\u001b[0m\u001b[1;33m,\u001b[0m \u001b[0mplacement\u001b[0m\u001b[1;33m=\u001b[0m\u001b[0mplacement\u001b[0m \u001b[1;32mor\u001b[0m \u001b[0mslice\u001b[0m\u001b[1;33m(\u001b[0m\u001b[1;36m0\u001b[0m\u001b[1;33m,\u001b[0m \u001b[0mlen\u001b[0m\u001b[1;33m(\u001b[0m\u001b[0mvalues\u001b[0m\u001b[1;33m)\u001b[0m\u001b[1;33m,\u001b[0m \u001b[1;36m1\u001b[0m\u001b[1;33m)\u001b[0m\u001b[1;33m\u001b[0m\u001b[1;33m\u001b[0m\u001b[0m\n\u001b[0;32m    367\u001b[0m         )\n",
      "\u001b[1;31mKeyboardInterrupt\u001b[0m: "
     ]
    }
   ],
   "source": [
    "df = pd.DataFrame(columns=['source', 'target'])\n",
    "\n",
    "for t, g in tag_dict.items():\n",
    "    i = 0\n",
    "    while i < len(g):\n",
    "        print(i, end='\\r')\n",
    "        j = i + 1\n",
    "        while j < len(g):\n",
    "            df2 = pd.DataFrame([[g[i], g[j]]], columns=['source', 'target'])\n",
    "            df = df.append(df2, ignore_index=True)\n",
    "            j += 1\n",
    "        i += 1"
   ]
  },
  {
   "cell_type": "code",
   "execution_count": 76,
   "metadata": {},
   "outputs": [],
   "source": [
    "df.to_csv('incomplete.csv')"
   ]
  }
 ],
 "metadata": {
  "kernelspec": {
   "display_name": "Python 3",
   "language": "python",
   "name": "python3"
  },
  "language_info": {
   "codemirror_mode": {
    "name": "ipython",
    "version": 3
   },
   "file_extension": ".py",
   "mimetype": "text/x-python",
   "name": "python",
   "nbconvert_exporter": "python",
   "pygments_lexer": "ipython3",
   "version": "3.8.5"
  }
 },
 "nbformat": 4,
 "nbformat_minor": 4
}
